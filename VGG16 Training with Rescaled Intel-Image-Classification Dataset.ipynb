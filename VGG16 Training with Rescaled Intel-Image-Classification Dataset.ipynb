{
  "nbformat": 4,
  "nbformat_minor": 0,
  "metadata": {
    "colab": {
      "name": "CV_Assignment3_Normalized_input.ipynb",
      "provenance": [],
      "collapsed_sections": []
    },
    "kernelspec": {
      "name": "python3",
      "display_name": "Python 3"
    },
    "accelerator": "GPU"
  },
  "cells": [
    {
      "cell_type": "code",
      "metadata": {
        "colab": {
          "base_uri": "https://localhost:8080/"
        },
        "id": "ayCRNHKMIGU4",
        "outputId": "53daaba5-a31f-4725-c4a6-4a75f3794528"
      },
      "source": [
        "GOOGLE_COLAB = True\r\n",
        "path = \"\"\r\n",
        "if GOOGLE_COLAB:\r\n",
        "    from google.colab import drive, files\r\n",
        "    drive.mount('/content/drive/')\r\n"
      ],
      "execution_count": null,
      "outputs": [
        {
          "output_type": "stream",
          "text": [
            "Drive already mounted at /content/drive/; to attempt to forcibly remount, call drive.mount(\"/content/drive/\", force_remount=True).\n"
          ],
          "name": "stdout"
        }
      ]
    },
    {
      "cell_type": "code",
      "metadata": {
        "colab": {
          "base_uri": "https://localhost:8080/"
        },
        "id": "YjdyZmsRSMkw",
        "outputId": "3fb05c13-462f-456e-a240-c708c2e43259"
      },
      "source": [
        "%cd \"/content/drive/MyDrive/Colab Notebooks/image_classification\""
      ],
      "execution_count": null,
      "outputs": [
        {
          "output_type": "stream",
          "text": [
            "/content/drive/MyDrive/Colab Notebooks/image_classification\n"
          ],
          "name": "stdout"
        }
      ]
    },
    {
      "cell_type": "code",
      "metadata": {
        "id": "fRlYV4twSmxz"
      },
      "source": [
        "#!pip install unrar\r\n",
        "!unrar x image_classification.rar"
      ],
      "execution_count": null,
      "outputs": []
    },
    {
      "cell_type": "code",
      "metadata": {
        "colab": {
          "base_uri": "https://localhost:8080/"
        },
        "id": "r-tpAlp6aLh4",
        "outputId": "cf30aa7e-a64b-4d2f-e135-5962b176daa4"
      },
      "source": [
        "import tensorflow as tf\r\n",
        "from tensorflow.python.client import device_lib\r\n",
        "\r\n",
        "tf.test.gpu_device_name()\r\n",
        "device_lib.list_local_devices()\r\n",
        "!cat /proc/meminfo\r\n",
        "!!cat /proc/cpuinfo\r\n",
        "!nvidia-smi\r\n",
        "!ln -sf /opt/bin/nvidia-smi /usr/bin/nvidia-smi\r\n",
        "!pip install gputil\r\n",
        "!pip install psutil\r\n",
        "!pip install humanize\r\n",
        "import psutil\r\n",
        "import humanize\r\n",
        "import os\r\n",
        "import GPUtil as GPU\r\n",
        "GPUs = GPU.getGPUs()\r\n",
        "# XXX: only one GPU on Colab and isn’t guaranteed\r\n",
        "gpu = GPUs[0]\r\n",
        "def printm():\r\n",
        " process = psutil.Process(os.getpid())\r\n",
        " print(\"Gen RAM Free: \" + humanize.naturalsize( psutil.virtual_memory().available ))\r\n",
        " print(\"GPU RAM Free: {0:.0f}MB | Used: {1:.0f}MB | Util {2:3.0f}% | Total {3:.0f}MB\".format(gpu.memoryFree, gpu.memoryUsed, gpu.memoryUtil*100, gpu.memoryTotal))\r\n",
        "printm()\r\n"
      ],
      "execution_count": null,
      "outputs": [
        {
          "output_type": "stream",
          "text": [
            "MemTotal:       13333596 kB\n",
            "MemFree:         7949400 kB\n",
            "MemAvailable:   11830156 kB\n",
            "Buffers:           92528 kB\n",
            "Cached:          3804880 kB\n",
            "SwapCached:            0 kB\n",
            "Active:          1587712 kB\n",
            "Inactive:        3378456 kB\n",
            "Active(anon):     911216 kB\n",
            "Inactive(anon):     8540 kB\n",
            "Active(file):     676496 kB\n",
            "Inactive(file):  3369916 kB\n",
            "Unevictable:           0 kB\n",
            "Mlocked:               0 kB\n",
            "SwapTotal:             0 kB\n",
            "SwapFree:              0 kB\n",
            "Dirty:               404 kB\n",
            "Writeback:             0 kB\n",
            "AnonPages:       1068824 kB\n",
            "Mapped:           582564 kB\n",
            "Shmem:              9156 kB\n",
            "Slab:             197232 kB\n",
            "SReclaimable:     150288 kB\n",
            "SUnreclaim:        46944 kB\n",
            "KernelStack:        4752 kB\n",
            "PageTables:         9048 kB\n",
            "NFS_Unstable:          0 kB\n",
            "Bounce:                0 kB\n",
            "WritebackTmp:          0 kB\n",
            "CommitLimit:     6666796 kB\n",
            "Committed_AS:    3800388 kB\n",
            "VmallocTotal:   34359738367 kB\n",
            "VmallocUsed:           0 kB\n",
            "VmallocChunk:          0 kB\n",
            "Percpu:              952 kB\n",
            "AnonHugePages:         0 kB\n",
            "ShmemHugePages:        0 kB\n",
            "ShmemPmdMapped:        0 kB\n",
            "HugePages_Total:       0\n",
            "HugePages_Free:        0\n",
            "HugePages_Rsvd:        0\n",
            "HugePages_Surp:        0\n",
            "Hugepagesize:       2048 kB\n",
            "Hugetlb:               0 kB\n",
            "DirectMap4k:      214248 kB\n",
            "DirectMap2M:     7124992 kB\n",
            "DirectMap1G:     8388608 kB\n",
            "Sun Jan  3 11:04:16 2021       \n",
            "+-----------------------------------------------------------------------------+\n",
            "| NVIDIA-SMI 418.67       Driver Version: 418.67       CUDA Version: 10.1     |\n",
            "|-------------------------------+----------------------+----------------------+\n",
            "| GPU  Name        Persistence-M| Bus-Id        Disp.A | Volatile Uncorr. ECC |\n",
            "| Fan  Temp  Perf  Pwr:Usage/Cap|         Memory-Usage | GPU-Util  Compute M. |\n",
            "|===============================+======================+======================|\n",
            "|   0  Tesla T4            Off  | 00000000:00:04.0 Off |                    0 |\n",
            "| N/A   45C    P0    27W /  70W |    227MiB / 15079MiB |      2%      Default |\n",
            "+-------------------------------+----------------------+----------------------+\n",
            "                                                                               \n",
            "+-----------------------------------------------------------------------------+\n",
            "| Processes:                                                       GPU Memory |\n",
            "|  GPU       PID   Type   Process name                             Usage      |\n",
            "|=============================================================================|\n",
            "+-----------------------------------------------------------------------------+\n",
            "Requirement already satisfied: gputil in /usr/local/lib/python3.6/dist-packages (1.4.0)\n",
            "Requirement already satisfied: psutil in /usr/local/lib/python3.6/dist-packages (5.4.8)\n",
            "Requirement already satisfied: humanize in /usr/local/lib/python3.6/dist-packages (0.5.1)\n",
            "Gen RAM Free: 12.1 GB\n",
            "GPU RAM Free: 14852MB | Used: 227MB | Util   2% | Total 15079MB\n"
          ],
          "name": "stdout"
        }
      ]
    },
    {
      "cell_type": "code",
      "metadata": {
        "id": "AmwohBjmdSLy"
      },
      "source": [
        "\r\n",
        "def creat_model():\r\n",
        "  import keras\r\n",
        "  from keras.layers import Conv2D, Dense, MaxPooling2D, Flatten, Dropout\r\n",
        "  from keras.models import Sequential\r\n",
        "\r\n",
        "  model = Sequential()\r\n",
        "\r\n",
        "  model.add(Conv2D(64, kernel_size=3, padding='same', activation='relu', input_shape=(150, 150, 3)))\r\n",
        "  model.add(Conv2D(64, kernel_size=3, padding='same', activation='relu'))\r\n",
        "  model.add(MaxPooling2D(pool_size=2, strides=2))\r\n",
        "  model.add(Dropout(0.25))\r\n",
        "\r\n",
        "  model.add(Conv2D(128, kernel_size=3, padding='same', activation='relu'))\r\n",
        "  model.add(Conv2D(128, kernel_size=3, padding='same', activation='relu'))\r\n",
        "  model.add(MaxPooling2D(pool_size=2, strides=2))\r\n",
        "  model.add(Dropout(0.25))\r\n",
        "\r\n",
        "  model.add(Conv2D(256, kernel_size=3, padding='same', activation='relu'))\r\n",
        "  model.add(Conv2D(256, kernel_size=3, padding='same', activation='relu'))\r\n",
        "  model.add(Conv2D(256, kernel_size=3, padding='same', activation='relu'))\r\n",
        "  model.add(MaxPooling2D(pool_size=2, strides=2))\r\n",
        "  model.add(Dropout(0.25))\r\n",
        "\r\n",
        "  model.add(Conv2D(512, kernel_size=3, padding='same', activation='relu'))\r\n",
        "  model.add(Conv2D(512, kernel_size=3, padding='same', activation='relu'))\r\n",
        "  model.add(Conv2D(512, kernel_size=3, padding='same', activation='relu'))\r\n",
        "  model.add(MaxPooling2D(pool_size=2, strides=2))\r\n",
        "  model.add(Dropout(0.25))\r\n",
        "\r\n",
        "  model.add(Conv2D(512, kernel_size=3, activation='relu'))\r\n",
        "  model.add(Conv2D(512, kernel_size=3, activation='relu'))\r\n",
        "  model.add(Conv2D(512, kernel_size=3, activation='relu'))\r\n",
        "  model.add(MaxPooling2D(pool_size=2, strides=2))\r\n",
        "  model.add(Dropout(0.25))\r\n",
        "\r\n",
        "  model.add(Flatten())\r\n",
        "\r\n",
        "  model.add(Dense(4096, activation='relu'))\r\n",
        "  model.add(Dense(4096, activation='relu'))\r\n",
        "  model.add(Dense(4096, activation='relu'))\r\n",
        "\r\n",
        "  # the data we are using has 6 classes\r\n",
        "  model.add(Dense(6, activation='softmax'))\r\n",
        "\r\n",
        "  return model"
      ],
      "execution_count": null,
      "outputs": []
    },
    {
      "cell_type": "code",
      "metadata": {
        "colab": {
          "base_uri": "https://localhost:8080/"
        },
        "id": "DZDx_DZKiceo",
        "outputId": "a282ba1c-7526-447d-e602-5b6d69c71acc"
      },
      "source": [
        "import os\r\n",
        "import cv2\r\n",
        "import numpy as np\r\n",
        "from imutils import paths\r\n",
        "from sklearn.preprocessing import LabelBinarizer\r\n",
        "from tqdm import tqdm\r\n",
        "\r\n",
        "# A function to load data from a given directory\r\n",
        "def load_data(data_dir):\r\n",
        "  data = []\r\n",
        "  labels = []\r\n",
        "  class_dirs = os.listdir(data_dir)\r\n",
        "  \r\n",
        "  for direc in class_dirs:\r\n",
        "    class_dir = os.path.join(data_dir, direc)\r\n",
        "    for imagepath in tqdm(list(paths.list_images(class_dir))):\r\n",
        "      image = cv2.imread(imagepath)\r\n",
        "      image = cv2.resize(image, (150, 150))  # incase images not of same size\r\n",
        "      data.append(image)\r\n",
        "      labels.append(direc)\r\n",
        "  # normalizing and converting to numpy array format\r\n",
        "  data = np.array(data, dtype='float')/255.0\r\n",
        "  labels = np.array(labels)\r\n",
        "  return data, labels\r\n",
        "\r\n",
        "train_dir = \"/content/drive/MyDrive/Colab Notebooks/image_classification/seg_train/\"\r\n",
        "validate_dir = \"/content/drive/MyDrive/Colab Notebooks/image_classification/seg_test/\"\r\n",
        "predict_dir = \"/content/drive/MyDrive/Colab Notebooks/image_classification/seg_pred/\"\r\n",
        "\r\n",
        "\r\n",
        "print('loading training images')\r\n",
        "X_train, y_train = load_data(train_dir)\r\n",
        "print('loading test images')\r\n",
        "X_validate, y_validate = load_data(validate_dir)\r\n",
        "print('loading prediction images')\r\n",
        "X_predict, y_predict = load_data(predict_dir)"
      ],
      "execution_count": null,
      "outputs": [
        {
          "output_type": "stream",
          "text": [
            "  2%|▏         | 35/2191 [00:00<00:06, 344.10it/s]"
          ],
          "name": "stderr"
        },
        {
          "output_type": "stream",
          "text": [
            "loading prediction images\n"
          ],
          "name": "stdout"
        },
        {
          "output_type": "stream",
          "text": [
            "100%|██████████| 2191/2191 [09:42<00:00,  3.76it/s]\n",
            "100%|██████████| 2271/2271 [10:33<00:00,  3.58it/s]\n",
            "100%|██████████| 2404/2404 [11:10<00:00,  3.58it/s]\n",
            "100%|██████████| 2512/2512 [11:25<00:00,  3.67it/s]\n",
            "100%|██████████| 2274/2274 [10:30<00:00,  3.61it/s]\n",
            "100%|██████████| 2382/2382 [13:34<00:00,  2.92it/s]\n",
            "  0%|          | 0/437 [00:00<?, ?it/s]"
          ],
          "name": "stderr"
        },
        {
          "output_type": "stream",
          "text": [
            "loading prediction images\n"
          ],
          "name": "stdout"
        },
        {
          "output_type": "stream",
          "text": [
            "100%|██████████| 437/437 [02:07<00:00,  3.43it/s]\n",
            "100%|██████████| 474/474 [02:20<00:00,  3.38it/s]\n",
            "100%|██████████| 553/553 [02:41<00:00,  3.43it/s]\n",
            "100%|██████████| 525/525 [02:31<00:00,  3.47it/s]\n",
            "100%|██████████| 510/510 [02:27<00:00,  3.45it/s]\n",
            "100%|██████████| 501/501 [02:28<00:00,  3.38it/s]\n"
          ],
          "name": "stderr"
        },
        {
          "output_type": "stream",
          "text": [
            "loading prediction images\n"
          ],
          "name": "stdout"
        },
        {
          "output_type": "stream",
          "text": [
            "100%|██████████| 1144/1144 [05:12<00:00,  3.66it/s]\n",
            "100%|██████████| 1166/1166 [05:22<00:00,  3.62it/s]\n",
            "100%|██████████| 1330/1330 [05:55<00:00,  3.74it/s]\n",
            "100%|██████████| 1297/1297 [06:04<00:00,  3.56it/s]\n",
            "100%|██████████| 1128/1128 [05:23<00:00,  3.49it/s]\n",
            "100%|██████████| 1236/1236 [05:55<00:00,  3.47it/s]\n"
          ],
          "name": "stderr"
        }
      ]
    },
    {
      "cell_type": "code",
      "metadata": {
        "colab": {
          "base_uri": "https://localhost:8080/"
        },
        "id": "8BQ9K_BG1jBD",
        "outputId": "635105c5-fe45-4b94-83f6-7e2546dd48d7"
      },
      "source": [
        "vgg16 = creat_model()\r\n",
        "vgg16.summary()"
      ],
      "execution_count": null,
      "outputs": [
        {
          "output_type": "stream",
          "text": [
            "Model: \"sequential_4\"\n",
            "_________________________________________________________________\n",
            "Layer (type)                 Output Shape              Param #   \n",
            "=================================================================\n",
            "conv2d_52 (Conv2D)           (None, 150, 150, 64)      1792      \n",
            "_________________________________________________________________\n",
            "conv2d_53 (Conv2D)           (None, 150, 150, 64)      36928     \n",
            "_________________________________________________________________\n",
            "max_pooling2d_20 (MaxPooling (None, 75, 75, 64)        0         \n",
            "_________________________________________________________________\n",
            "dropout_20 (Dropout)         (None, 75, 75, 64)        0         \n",
            "_________________________________________________________________\n",
            "conv2d_54 (Conv2D)           (None, 75, 75, 128)       73856     \n",
            "_________________________________________________________________\n",
            "conv2d_55 (Conv2D)           (None, 75, 75, 128)       147584    \n",
            "_________________________________________________________________\n",
            "max_pooling2d_21 (MaxPooling (None, 37, 37, 128)       0         \n",
            "_________________________________________________________________\n",
            "dropout_21 (Dropout)         (None, 37, 37, 128)       0         \n",
            "_________________________________________________________________\n",
            "conv2d_56 (Conv2D)           (None, 37, 37, 256)       295168    \n",
            "_________________________________________________________________\n",
            "conv2d_57 (Conv2D)           (None, 37, 37, 256)       590080    \n",
            "_________________________________________________________________\n",
            "conv2d_58 (Conv2D)           (None, 37, 37, 256)       590080    \n",
            "_________________________________________________________________\n",
            "max_pooling2d_22 (MaxPooling (None, 18, 18, 256)       0         \n",
            "_________________________________________________________________\n",
            "dropout_22 (Dropout)         (None, 18, 18, 256)       0         \n",
            "_________________________________________________________________\n",
            "conv2d_59 (Conv2D)           (None, 18, 18, 512)       1180160   \n",
            "_________________________________________________________________\n",
            "conv2d_60 (Conv2D)           (None, 18, 18, 512)       2359808   \n",
            "_________________________________________________________________\n",
            "conv2d_61 (Conv2D)           (None, 18, 18, 512)       2359808   \n",
            "_________________________________________________________________\n",
            "max_pooling2d_23 (MaxPooling (None, 9, 9, 512)         0         \n",
            "_________________________________________________________________\n",
            "dropout_23 (Dropout)         (None, 9, 9, 512)         0         \n",
            "_________________________________________________________________\n",
            "conv2d_62 (Conv2D)           (None, 7, 7, 512)         2359808   \n",
            "_________________________________________________________________\n",
            "conv2d_63 (Conv2D)           (None, 5, 5, 512)         2359808   \n",
            "_________________________________________________________________\n",
            "conv2d_64 (Conv2D)           (None, 3, 3, 512)         2359808   \n",
            "_________________________________________________________________\n",
            "max_pooling2d_24 (MaxPooling (None, 1, 1, 512)         0         \n",
            "_________________________________________________________________\n",
            "dropout_24 (Dropout)         (None, 1, 1, 512)         0         \n",
            "_________________________________________________________________\n",
            "flatten_4 (Flatten)          (None, 512)               0         \n",
            "_________________________________________________________________\n",
            "dense_16 (Dense)             (None, 4096)              2101248   \n",
            "_________________________________________________________________\n",
            "dense_17 (Dense)             (None, 4096)              16781312  \n",
            "_________________________________________________________________\n",
            "dense_18 (Dense)             (None, 4096)              16781312  \n",
            "_________________________________________________________________\n",
            "dense_19 (Dense)             (None, 6)                 24582     \n",
            "=================================================================\n",
            "Total params: 50,403,142\n",
            "Trainable params: 50,403,142\n",
            "Non-trainable params: 0\n",
            "_________________________________________________________________\n"
          ],
          "name": "stdout"
        }
      ]
    },
    {
      "cell_type": "code",
      "metadata": {
        "id": "NAESXZyvSBA7"
      },
      "source": [
        "from keras.optimizers import SGD\r\n",
        "sgd = SGD(lr=0.01, decay=1e-7, momentum=.9) #adaptive learning rate applied\r\n",
        "vgg16.compile(loss='categorical_crossentropy', optimizer=sgd, metrics=['accuracy'])"
      ],
      "execution_count": null,
      "outputs": []
    },
    {
      "cell_type": "code",
      "metadata": {
        "id": "MD6iLtHeSD-A"
      },
      "source": [
        "from keras.preprocessing.image import ImageDataGenerator\r\n",
        "datagen_train = ImageDataGenerator(rescale=1. / 255)\r\n",
        "datagen_validate = ImageDataGenerator(rescale=1. / 255)"
      ],
      "execution_count": null,
      "outputs": []
    },
    {
      "cell_type": "code",
      "metadata": {
        "colab": {
          "base_uri": "https://localhost:8080/"
        },
        "id": "AB3udBDyjQBd",
        "outputId": "5e1df519-01b9-4f03-dce0-d0258463c786"
      },
      "source": [
        "train_dir = \"/content/drive/MyDrive/Colab Notebooks/image_classification/seg_train/\"\r\n",
        "validate_dir = \"/content/drive/MyDrive/Colab Notebooks/image_classification/seg_test/\"\r\n",
        "\r\n",
        "train_it = datagen_train.flow_from_directory(train_dir, target_size=(150,150),class_mode=\"categorical\", batch_size=64,shuffle=True,)\r\n",
        "validate_it = datagen_validate.flow_from_directory(validate_dir, target_size=(150,150),class_mode=\"categorical\", batch_size=64,shuffle=True,)\r\n",
        "\r\n",
        "H = vgg16.fit(train_it,batch_size=64,epochs=50,validation_data=validate_it)\r\n"
      ],
      "execution_count": null,
      "outputs": [
        {
          "output_type": "stream",
          "text": [
            "Found 14034 images belonging to 6 classes.\n",
            "Found 3000 images belonging to 6 classes.\n",
            "Epoch 1/50\n",
            "220/220 [==============================] - 99s 444ms/step - loss: 1.7771 - accuracy: 0.1939 - val_loss: 1.4573 - val_accuracy: 0.4357\n",
            "Epoch 2/50\n",
            "220/220 [==============================] - 96s 438ms/step - loss: 1.3656 - accuracy: 0.4594 - val_loss: 1.0782 - val_accuracy: 0.5640\n",
            "Epoch 3/50\n",
            "220/220 [==============================] - 96s 436ms/step - loss: 1.0580 - accuracy: 0.5646 - val_loss: 0.9396 - val_accuracy: 0.6180\n",
            "Epoch 4/50\n",
            "220/220 [==============================] - 97s 439ms/step - loss: 0.9294 - accuracy: 0.6230 - val_loss: 0.8046 - val_accuracy: 0.6757\n",
            "Epoch 5/50\n",
            "220/220 [==============================] - 96s 437ms/step - loss: 0.8384 - accuracy: 0.6645 - val_loss: 0.8797 - val_accuracy: 0.6647\n",
            "Epoch 6/50\n",
            "220/220 [==============================] - 96s 436ms/step - loss: 0.8023 - accuracy: 0.6881 - val_loss: 0.9351 - val_accuracy: 0.6230\n",
            "Epoch 7/50\n",
            "220/220 [==============================] - 96s 435ms/step - loss: 0.7613 - accuracy: 0.6987 - val_loss: 0.7109 - val_accuracy: 0.7293\n",
            "Epoch 8/50\n",
            "220/220 [==============================] - 96s 435ms/step - loss: 0.6818 - accuracy: 0.7327 - val_loss: 0.6564 - val_accuracy: 0.7403\n",
            "Epoch 9/50\n",
            "220/220 [==============================] - 96s 436ms/step - loss: 0.6774 - accuracy: 0.7351 - val_loss: 0.6359 - val_accuracy: 0.7510\n",
            "Epoch 10/50\n",
            "220/220 [==============================] - 96s 435ms/step - loss: 0.6284 - accuracy: 0.7591 - val_loss: 0.6546 - val_accuracy: 0.7447\n",
            "Epoch 11/50\n",
            "220/220 [==============================] - 96s 437ms/step - loss: 0.5706 - accuracy: 0.7852 - val_loss: 0.7162 - val_accuracy: 0.7300\n",
            "Epoch 12/50\n",
            "220/220 [==============================] - 96s 435ms/step - loss: 0.5620 - accuracy: 0.7958 - val_loss: 0.5607 - val_accuracy: 0.7970\n",
            "Epoch 13/50\n",
            "220/220 [==============================] - 96s 435ms/step - loss: 0.5204 - accuracy: 0.8072 - val_loss: 0.5400 - val_accuracy: 0.8083\n",
            "Epoch 14/50\n",
            "220/220 [==============================] - 96s 435ms/step - loss: 0.4923 - accuracy: 0.8200 - val_loss: 0.5145 - val_accuracy: 0.8143\n",
            "Epoch 15/50\n",
            "220/220 [==============================] - 96s 435ms/step - loss: 0.4575 - accuracy: 0.8331 - val_loss: 0.6086 - val_accuracy: 0.7850\n",
            "Epoch 16/50\n",
            "220/220 [==============================] - 96s 435ms/step - loss: 0.4300 - accuracy: 0.8446 - val_loss: 0.5205 - val_accuracy: 0.8087\n",
            "Epoch 17/50\n",
            "220/220 [==============================] - 96s 436ms/step - loss: 0.4139 - accuracy: 0.8503 - val_loss: 0.4672 - val_accuracy: 0.8340\n",
            "Epoch 18/50\n",
            "220/220 [==============================] - 96s 435ms/step - loss: 0.3777 - accuracy: 0.8616 - val_loss: 0.4390 - val_accuracy: 0.8487\n",
            "Epoch 19/50\n",
            "220/220 [==============================] - 96s 435ms/step - loss: 0.3474 - accuracy: 0.8772 - val_loss: 0.5242 - val_accuracy: 0.8047\n",
            "Epoch 20/50\n",
            "220/220 [==============================] - 96s 435ms/step - loss: 0.3476 - accuracy: 0.8725 - val_loss: 0.5231 - val_accuracy: 0.8153\n",
            "Epoch 21/50\n",
            "220/220 [==============================] - 96s 435ms/step - loss: 0.3065 - accuracy: 0.8911 - val_loss: 0.5270 - val_accuracy: 0.8290\n",
            "Epoch 22/50\n",
            "220/220 [==============================] - 96s 436ms/step - loss: 0.3024 - accuracy: 0.8939 - val_loss: 0.4852 - val_accuracy: 0.8320\n",
            "Epoch 23/50\n",
            "220/220 [==============================] - 96s 435ms/step - loss: 0.2817 - accuracy: 0.8976 - val_loss: 0.4457 - val_accuracy: 0.8433\n",
            "Epoch 24/50\n",
            "220/220 [==============================] - 96s 436ms/step - loss: 0.2677 - accuracy: 0.9044 - val_loss: 0.4596 - val_accuracy: 0.8467\n",
            "Epoch 25/50\n",
            "220/220 [==============================] - 96s 435ms/step - loss: 0.2532 - accuracy: 0.9077 - val_loss: 0.5305 - val_accuracy: 0.8437\n",
            "Epoch 26/50\n",
            "220/220 [==============================] - 96s 434ms/step - loss: 0.2190 - accuracy: 0.9204 - val_loss: 0.4630 - val_accuracy: 0.8447\n",
            "Epoch 27/50\n",
            "220/220 [==============================] - 96s 435ms/step - loss: 0.2117 - accuracy: 0.9231 - val_loss: 0.4940 - val_accuracy: 0.8443\n",
            "Epoch 28/50\n",
            "220/220 [==============================] - 95s 434ms/step - loss: 0.1655 - accuracy: 0.9392 - val_loss: 0.5038 - val_accuracy: 0.8470\n",
            "Epoch 29/50\n",
            "220/220 [==============================] - 96s 436ms/step - loss: 0.1823 - accuracy: 0.9372 - val_loss: 0.5326 - val_accuracy: 0.8343\n",
            "Epoch 30/50\n",
            "220/220 [==============================] - 96s 436ms/step - loss: 0.1609 - accuracy: 0.9430 - val_loss: 0.5593 - val_accuracy: 0.8437\n",
            "Epoch 31/50\n",
            "220/220 [==============================] - 96s 435ms/step - loss: 0.1618 - accuracy: 0.9430 - val_loss: 0.6408 - val_accuracy: 0.8303\n",
            "Epoch 32/50\n",
            "220/220 [==============================] - 95s 433ms/step - loss: 0.1406 - accuracy: 0.9501 - val_loss: 0.6550 - val_accuracy: 0.8193\n",
            "Epoch 33/50\n",
            "220/220 [==============================] - 95s 434ms/step - loss: 0.1417 - accuracy: 0.9488 - val_loss: 0.6005 - val_accuracy: 0.8407\n",
            "Epoch 34/50\n",
            "220/220 [==============================] - 95s 433ms/step - loss: 0.1112 - accuracy: 0.9595 - val_loss: 0.5920 - val_accuracy: 0.8317\n",
            "Epoch 35/50\n",
            "220/220 [==============================] - 96s 434ms/step - loss: 0.1371 - accuracy: 0.9516 - val_loss: 0.5953 - val_accuracy: 0.8413\n",
            "Epoch 36/50\n",
            "220/220 [==============================] - 96s 434ms/step - loss: 0.1136 - accuracy: 0.9604 - val_loss: 0.6559 - val_accuracy: 0.8487\n",
            "Epoch 37/50\n",
            "220/220 [==============================] - 95s 434ms/step - loss: 0.0882 - accuracy: 0.9674 - val_loss: 0.7482 - val_accuracy: 0.8167\n",
            "Epoch 38/50\n",
            "220/220 [==============================] - 96s 434ms/step - loss: 0.1095 - accuracy: 0.9607 - val_loss: 0.6077 - val_accuracy: 0.8433\n",
            "Epoch 39/50\n",
            "220/220 [==============================] - 95s 434ms/step - loss: 0.0728 - accuracy: 0.9743 - val_loss: 0.8555 - val_accuracy: 0.8150\n",
            "Epoch 40/50\n",
            "220/220 [==============================] - 96s 435ms/step - loss: 0.0934 - accuracy: 0.9685 - val_loss: 0.6891 - val_accuracy: 0.8330\n",
            "Epoch 41/50\n",
            "220/220 [==============================] - 96s 434ms/step - loss: 0.0811 - accuracy: 0.9733 - val_loss: 0.7915 - val_accuracy: 0.8267\n",
            "Epoch 42/50\n",
            "220/220 [==============================] - 96s 434ms/step - loss: 0.0676 - accuracy: 0.9764 - val_loss: 0.6835 - val_accuracy: 0.8563\n",
            "Epoch 43/50\n",
            "220/220 [==============================] - 96s 434ms/step - loss: 0.0848 - accuracy: 0.9729 - val_loss: 0.7099 - val_accuracy: 0.8380\n",
            "Epoch 44/50\n",
            "220/220 [==============================] - 96s 434ms/step - loss: 0.0609 - accuracy: 0.9786 - val_loss: 0.7035 - val_accuracy: 0.8383\n",
            "Epoch 45/50\n",
            "220/220 [==============================] - 96s 434ms/step - loss: 0.0558 - accuracy: 0.9823 - val_loss: 0.6672 - val_accuracy: 0.8280\n",
            "Epoch 46/50\n",
            "220/220 [==============================] - 95s 433ms/step - loss: 0.0660 - accuracy: 0.9787 - val_loss: 0.7470 - val_accuracy: 0.8470\n",
            "Epoch 47/50\n",
            "220/220 [==============================] - 96s 434ms/step - loss: 0.0584 - accuracy: 0.9798 - val_loss: 0.7761 - val_accuracy: 0.8367\n",
            "Epoch 48/50\n",
            "220/220 [==============================] - 95s 433ms/step - loss: 0.0396 - accuracy: 0.9857 - val_loss: 0.8049 - val_accuracy: 0.8453\n",
            "Epoch 49/50\n",
            "220/220 [==============================] - 95s 433ms/step - loss: 0.0242 - accuracy: 0.9924 - val_loss: 1.0033 - val_accuracy: 0.8390\n",
            "Epoch 50/50\n",
            "220/220 [==============================] - 95s 433ms/step - loss: 0.0548 - accuracy: 0.9819 - val_loss: 0.7741 - val_accuracy: 0.8227\n"
          ],
          "name": "stdout"
        }
      ]
    },
    {
      "cell_type": "code",
      "metadata": {
        "id": "SWRQbLsOIHw9"
      },
      "source": [
        "vgg16.save_weights('vgg16_trained_weights_with_normalized_input.h5')"
      ],
      "execution_count": null,
      "outputs": []
    },
    {
      "cell_type": "code",
      "metadata": {
        "colab": {
          "base_uri": "https://localhost:8080/",
          "height": 298
        },
        "id": "knA2nItB_Jr6",
        "outputId": "e6443d6e-bd40-41f1-a541-fc080010b2e8"
      },
      "source": [
        "'''LEARNING CURVE'''\r\n",
        "\r\n",
        "import matplotlib.pyplot as plt\r\n",
        "import numpy as np\r\n",
        "\r\n",
        "N = np.arange(0, 50)\r\n",
        "plt.style.use('ggplot')\r\n",
        "plt.figure()\r\n",
        "plt.plot(N, H.history['loss'], label='training_loss')\r\n",
        "plt.plot(N, H.history['val_loss'], label='validation_loss')\r\n",
        "plt.plot(N, H.history['accuracy'], label='training_accuracy')\r\n",
        "plt.plot(N, H.history['val_accuracy'], label='validation_accuracy')\r\n",
        "plt.title('Training/Validation loss and accuracy')\r\n",
        "plt.xlabel('Epoch #')\r\n",
        "plt.ylabel('Loss/Accuracy')\r\n",
        "plt.legend()\r\n",
        "plt.show()"
      ],
      "execution_count": null,
      "outputs": [
        {
          "output_type": "display_data",
          "data": {
            "image/png": "[encoded data removed]",
            "text/plain": [
              "<Figure size 432x288 with 1 Axes>"
            ]
          },
          "metadata": {
            "tags": []
          }
        }
      ]
    },
    {
      "cell_type": "code",
      "metadata": {
        "id": "e4ZIZCBrP9_7",
        "colab": {
          "base_uri": "https://localhost:8080/"
        },
        "outputId": "e30d2103-5d05-40dd-bc57-7c23509fafc2"
      },
      "source": [
        "predict_dir = \"/content/drive/MyDrive/Colab Notebooks/image_classification/seg_pred/\"\r\n",
        "\r\n",
        "from keras.preprocessing.image import ImageDataGenerator\r\n",
        "datagen = ImageDataGenerator(rescale=1. / 255)\r\n",
        "predict_it = datagen.flow_from_directory(predict_dir, target_size=(150,150),class_mode=\"categorical\", batch_size=1,shuffle=False,)\r\n",
        "\r\n",
        "score = vgg16.evaluate_generator(predict_it)\r\n",
        "\r\n",
        "filenames = predict_it.filenames\r\n",
        "nb_samples = len(filenames)\r\n",
        "Y_pred = vgg16.predict_generator(predict_it,steps = nb_samples)\r\n",
        "y_pred = np.argmax(Y_pred, axis=1)\r\n",
        "from sklearn.metrics import classification_report, confusion_matrix\r\n",
        "aa=confusion_matrix(predict_it.classes, y_pred)"
      ],
      "execution_count": null,
      "outputs": [
        {
          "output_type": "stream",
          "text": [
            "Found 7301 images belonging to 6 classes.\n"
          ],
          "name": "stdout"
        },
        {
          "output_type": "stream",
          "text": [
            "/usr/local/lib/python3.6/dist-packages/tensorflow/python/keras/engine/training.py:1877: UserWarning: `Model.evaluate_generator` is deprecated and will be removed in a future version. Please use `Model.evaluate`, which supports generators.\n",
            "  warnings.warn('`Model.evaluate_generator` is deprecated and '\n",
            "/usr/local/lib/python3.6/dist-packages/tensorflow/python/keras/engine/training.py:1905: UserWarning: `Model.predict_generator` is deprecated and will be removed in a future version. Please use `Model.predict`, which supports generators.\n",
            "  warnings.warn('`Model.predict_generator` is deprecated and '\n"
          ],
          "name": "stderr"
        }
      ]
    },
    {
      "cell_type": "code",
      "metadata": {
        "colab": {
          "base_uri": "https://localhost:8080/"
        },
        "id": "qIFI0EaLUZ81",
        "outputId": "a40abf51-6859-46ad-b904-1f45bdbac152"
      },
      "source": [
        "print('Test Loss = ', score[0])\r\n",
        "print('Test Accuracy = ', score[1])\r\n",
        "print('Confusion Matrix = \\n',aa)"
      ],
      "execution_count": null,
      "outputs": [
        {
          "output_type": "stream",
          "text": [
            "Test Loss =  0.78375643491745\n",
            "Test Accuracy =  0.8320778012275696\n",
            "Confusion Matrix = \n",
            " [[1014   15    2    7    2  104]\n",
            " [   7 1140    2    5    3    9]\n",
            " [  19   24  954  257   68    8]\n",
            " [  23    9  119 1082   63    1]\n",
            " [  61   16   54  123  867    7]\n",
            " [ 141   62    3    4    8 1018]]\n"
          ],
          "name": "stdout"
        }
      ]
    }
  ]
}