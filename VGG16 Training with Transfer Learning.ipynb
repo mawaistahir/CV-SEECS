{
  "nbformat": 4,
  "nbformat_minor": 0,
  "metadata": {
    "colab": {
      "name": "CV_Assignment3_Transfer_Learning.ipynb",
      "provenance": [],
      "collapsed_sections": []
    },
    "kernelspec": {
      "name": "python3",
      "display_name": "Python 3"
    },
    "accelerator": "GPU"
  },
  "cells": [
    {
      "cell_type": "code",
      "metadata": {
        "colab": {
          "base_uri": "https://localhost:8080/"
        },
        "id": "ayCRNHKMIGU4",
        "outputId": "53daaba5-a31f-4725-c4a6-4a75f3794528"
      },
      "source": [
        "GOOGLE_COLAB = True\r\n",
        "path = \"\"\r\n",
        "if GOOGLE_COLAB:\r\n",
        "    from google.colab import drive, files\r\n",
        "    drive.mount('/content/drive/')\r\n"
      ],
      "execution_count": null,
      "outputs": [
        {
          "output_type": "stream",
          "text": [
            "Drive already mounted at /content/drive/; to attempt to forcibly remount, call drive.mount(\"/content/drive/\", force_remount=True).\n"
          ],
          "name": "stdout"
        }
      ]
    },
    {
      "cell_type": "code",
      "metadata": {
        "colab": {
          "base_uri": "https://localhost:8080/"
        },
        "id": "YjdyZmsRSMkw",
        "outputId": "3fb05c13-462f-456e-a240-c708c2e43259"
      },
      "source": [
        "%cd \"/content/drive/MyDrive/Colab Notebooks/image_classification\""
      ],
      "execution_count": null,
      "outputs": [
        {
          "output_type": "stream",
          "text": [
            "/content/drive/MyDrive/Colab Notebooks/image_classification\n"
          ],
          "name": "stdout"
        }
      ]
    },
    {
      "cell_type": "code",
      "metadata": {
        "id": "fRlYV4twSmxz"
      },
      "source": [
        "#!pip install unrar\r\n",
        "!unrar x image_classification.rar"
      ],
      "execution_count": null,
      "outputs": []
    },
    {
      "cell_type": "code",
      "metadata": {
        "colab": {
          "base_uri": "https://localhost:8080/"
        },
        "id": "r-tpAlp6aLh4",
        "outputId": "cf30aa7e-a64b-4d2f-e135-5962b176daa4"
      },
      "source": [
        "import tensorflow as tf\r\n",
        "from tensorflow.python.client import device_lib\r\n",
        "\r\n",
        "tf.test.gpu_device_name()\r\n",
        "device_lib.list_local_devices()\r\n",
        "!cat /proc/meminfo\r\n",
        "!!cat /proc/cpuinfo\r\n",
        "!nvidia-smi\r\n",
        "!ln -sf /opt/bin/nvidia-smi /usr/bin/nvidia-smi\r\n",
        "!pip install gputil\r\n",
        "!pip install psutil\r\n",
        "!pip install humanize\r\n",
        "import psutil\r\n",
        "import humanize\r\n",
        "import os\r\n",
        "import GPUtil as GPU\r\n",
        "GPUs = GPU.getGPUs()\r\n",
        "# XXX: only one GPU on Colab and isn’t guaranteed\r\n",
        "gpu = GPUs[0]\r\n",
        "def printm():\r\n",
        " process = psutil.Process(os.getpid())\r\n",
        " print(\"Gen RAM Free: \" + humanize.naturalsize( psutil.virtual_memory().available ))\r\n",
        " print(\"GPU RAM Free: {0:.0f}MB | Used: {1:.0f}MB | Util {2:3.0f}% | Total {3:.0f}MB\".format(gpu.memoryFree, gpu.memoryUsed, gpu.memoryUtil*100, gpu.memoryTotal))\r\n",
        "printm()\r\n"
      ],
      "execution_count": null,
      "outputs": [
        {
          "output_type": "stream",
          "text": [
            "MemTotal:       13333596 kB\n",
            "MemFree:         7949400 kB\n",
            "MemAvailable:   11830156 kB\n",
            "Buffers:           92528 kB\n",
            "Cached:          3804880 kB\n",
            "SwapCached:            0 kB\n",
            "Active:          1587712 kB\n",
            "Inactive:        3378456 kB\n",
            "Active(anon):     911216 kB\n",
            "Inactive(anon):     8540 kB\n",
            "Active(file):     676496 kB\n",
            "Inactive(file):  3369916 kB\n",
            "Unevictable:           0 kB\n",
            "Mlocked:               0 kB\n",
            "SwapTotal:             0 kB\n",
            "SwapFree:              0 kB\n",
            "Dirty:               404 kB\n",
            "Writeback:             0 kB\n",
            "AnonPages:       1068824 kB\n",
            "Mapped:           582564 kB\n",
            "Shmem:              9156 kB\n",
            "Slab:             197232 kB\n",
            "SReclaimable:     150288 kB\n",
            "SUnreclaim:        46944 kB\n",
            "KernelStack:        4752 kB\n",
            "PageTables:         9048 kB\n",
            "NFS_Unstable:          0 kB\n",
            "Bounce:                0 kB\n",
            "WritebackTmp:          0 kB\n",
            "CommitLimit:     6666796 kB\n",
            "Committed_AS:    3800388 kB\n",
            "VmallocTotal:   34359738367 kB\n",
            "VmallocUsed:           0 kB\n",
            "VmallocChunk:          0 kB\n",
            "Percpu:              952 kB\n",
            "AnonHugePages:         0 kB\n",
            "ShmemHugePages:        0 kB\n",
            "ShmemPmdMapped:        0 kB\n",
            "HugePages_Total:       0\n",
            "HugePages_Free:        0\n",
            "HugePages_Rsvd:        0\n",
            "HugePages_Surp:        0\n",
            "Hugepagesize:       2048 kB\n",
            "Hugetlb:               0 kB\n",
            "DirectMap4k:      214248 kB\n",
            "DirectMap2M:     7124992 kB\n",
            "DirectMap1G:     8388608 kB\n",
            "Sun Jan  3 11:04:16 2021       \n",
            "+-----------------------------------------------------------------------------+\n",
            "| NVIDIA-SMI 418.67       Driver Version: 418.67       CUDA Version: 10.1     |\n",
            "|-------------------------------+----------------------+----------------------+\n",
            "| GPU  Name        Persistence-M| Bus-Id        Disp.A | Volatile Uncorr. ECC |\n",
            "| Fan  Temp  Perf  Pwr:Usage/Cap|         Memory-Usage | GPU-Util  Compute M. |\n",
            "|===============================+======================+======================|\n",
            "|   0  Tesla T4            Off  | 00000000:00:04.0 Off |                    0 |\n",
            "| N/A   45C    P0    27W /  70W |    227MiB / 15079MiB |      2%      Default |\n",
            "+-------------------------------+----------------------+----------------------+\n",
            "                                                                               \n",
            "+-----------------------------------------------------------------------------+\n",
            "| Processes:                                                       GPU Memory |\n",
            "|  GPU       PID   Type   Process name                             Usage      |\n",
            "|=============================================================================|\n",
            "+-----------------------------------------------------------------------------+\n",
            "Requirement already satisfied: gputil in /usr/local/lib/python3.6/dist-packages (1.4.0)\n",
            "Requirement already satisfied: psutil in /usr/local/lib/python3.6/dist-packages (5.4.8)\n",
            "Requirement already satisfied: humanize in /usr/local/lib/python3.6/dist-packages (0.5.1)\n",
            "Gen RAM Free: 12.1 GB\n",
            "GPU RAM Free: 14852MB | Used: 227MB | Util   2% | Total 15079MB\n"
          ],
          "name": "stdout"
        }
      ]
    },
    {
      "cell_type": "code",
      "metadata": {
        "id": "AmwohBjmdSLy"
      },
      "source": [
        "\r\n",
        "def creat_model():\r\n",
        "  import keras\r\n",
        "  from keras.layers import Conv2D, Dense, MaxPooling2D, Flatten, Dropout\r\n",
        "  from keras.models import Sequential\r\n",
        "\r\n",
        "  model = Sequential()\r\n",
        "\r\n",
        "  model.add(Conv2D(64, kernel_size=3, padding='same', activation='relu', input_shape=(150, 150, 3)))\r\n",
        "  model.add(Conv2D(64, kernel_size=3, padding='same', activation='relu'))\r\n",
        "  model.add(MaxPooling2D(pool_size=2, strides=2))\r\n",
        "  model.add(Dropout(0.25))\r\n",
        "\r\n",
        "  model.add(Conv2D(128, kernel_size=3, padding='same', activation='relu'))\r\n",
        "  model.add(Conv2D(128, kernel_size=3, padding='same', activation='relu'))\r\n",
        "  model.add(MaxPooling2D(pool_size=2, strides=2))\r\n",
        "  model.add(Dropout(0.25))\r\n",
        "\r\n",
        "  model.add(Conv2D(256, kernel_size=3, padding='same', activation='relu'))\r\n",
        "  model.add(Conv2D(256, kernel_size=3, padding='same', activation='relu'))\r\n",
        "  model.add(Conv2D(256, kernel_size=3, padding='same', activation='relu'))\r\n",
        "  model.add(MaxPooling2D(pool_size=2, strides=2))\r\n",
        "  model.add(Dropout(0.25))\r\n",
        "\r\n",
        "  model.add(Conv2D(512, kernel_size=3, padding='same', activation='relu'))\r\n",
        "  model.add(Conv2D(512, kernel_size=3, padding='same', activation='relu'))\r\n",
        "  model.add(Conv2D(512, kernel_size=3, padding='same', activation='relu'))\r\n",
        "  model.add(MaxPooling2D(pool_size=2, strides=2))\r\n",
        "  model.add(Dropout(0.25))\r\n",
        "\r\n",
        "  model.add(Conv2D(512, kernel_size=3, activation='relu'))\r\n",
        "  model.add(Conv2D(512, kernel_size=3, activation='relu'))\r\n",
        "  model.add(Conv2D(512, kernel_size=3, activation='relu'))\r\n",
        "  model.add(MaxPooling2D(pool_size=2, strides=2))\r\n",
        "  model.add(Dropout(0.25))\r\n",
        "\r\n",
        "  model.add(Flatten())\r\n",
        "\r\n",
        "  model.add(Dense(4096, activation='relu'))\r\n",
        "  model.add(Dense(4096, activation='relu'))\r\n",
        "  model.add(Dense(4096, activation='relu'))\r\n",
        "\r\n",
        "  # the data we are using has 6 classes\r\n",
        "  model.add(Dense(6, activation='softmax'))\r\n",
        "\r\n",
        "  return model"
      ],
      "execution_count": null,
      "outputs": []
    },
    {
      "cell_type": "code",
      "metadata": {
        "colab": {
          "base_uri": "https://localhost:8080/"
        },
        "id": "DZDx_DZKiceo",
        "outputId": "a282ba1c-7526-447d-e602-5b6d69c71acc"
      },
      "source": [
        "import os\r\n",
        "import cv2\r\n",
        "import numpy as np\r\n",
        "from imutils import paths\r\n",
        "from sklearn.preprocessing import LabelBinarizer\r\n",
        "from tqdm import tqdm\r\n",
        "\r\n",
        "# A function to load data from a given directory\r\n",
        "def load_data(data_dir):\r\n",
        "  data = []\r\n",
        "  labels = []\r\n",
        "  class_dirs = os.listdir(data_dir)\r\n",
        "  \r\n",
        "  for direc in class_dirs:\r\n",
        "    class_dir = os.path.join(data_dir, direc)\r\n",
        "    for imagepath in tqdm(list(paths.list_images(class_dir))):\r\n",
        "      image = cv2.imread(imagepath)\r\n",
        "      image = cv2.resize(image, (150, 150))  # incase images not of same size\r\n",
        "      data.append(image)\r\n",
        "      labels.append(direc)\r\n",
        "  # normalizing and converting to numpy array format\r\n",
        "  data = np.array(data, dtype='float')/255.0\r\n",
        "  labels = np.array(labels)\r\n",
        "  return data, labels\r\n",
        "\r\n",
        "train_dir = \"/content/drive/MyDrive/Colab Notebooks/image_classification/seg_train/\"\r\n",
        "validate_dir = \"/content/drive/MyDrive/Colab Notebooks/image_classification/seg_test/\"\r\n",
        "predict_dir = \"/content/drive/MyDrive/Colab Notebooks/image_classification/seg_pred/\"\r\n",
        "\r\n",
        "\r\n",
        "print('loading training images')\r\n",
        "X_train, y_train = load_data(train_dir)\r\n",
        "print('loading test images')\r\n",
        "X_validate, y_validate = load_data(validate_dir)\r\n",
        "print('loading prediction images')\r\n",
        "X_predict, y_predict = load_data(predict_dir)"
      ],
      "execution_count": null,
      "outputs": [
        {
          "output_type": "stream",
          "text": [
            "  2%|▏         | 35/2191 [00:00<00:06, 344.10it/s]"
          ],
          "name": "stderr"
        },
        {
          "output_type": "stream",
          "text": [
            "loading prediction images\n"
          ],
          "name": "stdout"
        },
        {
          "output_type": "stream",
          "text": [
            "100%|██████████| 2191/2191 [09:42<00:00,  3.76it/s]\n",
            "100%|██████████| 2271/2271 [10:33<00:00,  3.58it/s]\n",
            "100%|██████████| 2404/2404 [11:10<00:00,  3.58it/s]\n",
            "100%|██████████| 2512/2512 [11:25<00:00,  3.67it/s]\n",
            "100%|██████████| 2274/2274 [10:30<00:00,  3.61it/s]\n",
            "100%|██████████| 2382/2382 [13:34<00:00,  2.92it/s]\n",
            "  0%|          | 0/437 [00:00<?, ?it/s]"
          ],
          "name": "stderr"
        },
        {
          "output_type": "stream",
          "text": [
            "loading prediction images\n"
          ],
          "name": "stdout"
        },
        {
          "output_type": "stream",
          "text": [
            "100%|██████████| 437/437 [02:07<00:00,  3.43it/s]\n",
            "100%|██████████| 474/474 [02:20<00:00,  3.38it/s]\n",
            "100%|██████████| 553/553 [02:41<00:00,  3.43it/s]\n",
            "100%|██████████| 525/525 [02:31<00:00,  3.47it/s]\n",
            "100%|██████████| 510/510 [02:27<00:00,  3.45it/s]\n",
            "100%|██████████| 501/501 [02:28<00:00,  3.38it/s]\n"
          ],
          "name": "stderr"
        },
        {
          "output_type": "stream",
          "text": [
            "loading prediction images\n"
          ],
          "name": "stdout"
        },
        {
          "output_type": "stream",
          "text": [
            "100%|██████████| 1144/1144 [05:12<00:00,  3.66it/s]\n",
            "100%|██████████| 1166/1166 [05:22<00:00,  3.62it/s]\n",
            "100%|██████████| 1330/1330 [05:55<00:00,  3.74it/s]\n",
            "100%|██████████| 1297/1297 [06:04<00:00,  3.56it/s]\n",
            "100%|██████████| 1128/1128 [05:23<00:00,  3.49it/s]\n",
            "100%|██████████| 1236/1236 [05:55<00:00,  3.47it/s]\n"
          ],
          "name": "stderr"
        }
      ]
    },
    {
      "cell_type": "code",
      "metadata": {
        "colab": {
          "base_uri": "https://localhost:8080/"
        },
        "id": "8BQ9K_BG1jBD",
        "outputId": "1f27b118-c0ad-48eb-c6c9-6e412a9113b5"
      },
      "source": [
        "vgg16 = creat_model()\r\n",
        "vgg16.load_weights(\"/content/drive/MyDrive/Colab Notebooks/image_classification/vgg16_trained_weights_with_data_augmentation.h5\")\r\n",
        "for layer in vgg16.layers[:24]:\r\n",
        "    layer.trainable=False\r\n",
        "for layer in vgg16.layers[24:]:\r\n",
        "    layer.trainable=True\r\n",
        "vgg16.summary()"
      ],
      "execution_count": null,
      "outputs": [
        {
          "output_type": "stream",
          "text": [
            "Model: \"sequential_2\"\n",
            "_________________________________________________________________\n",
            "Layer (type)                 Output Shape              Param #   \n",
            "=================================================================\n",
            "conv2d_26 (Conv2D)           (None, 150, 150, 64)      1792      \n",
            "_________________________________________________________________\n",
            "conv2d_27 (Conv2D)           (None, 150, 150, 64)      36928     \n",
            "_________________________________________________________________\n",
            "max_pooling2d_10 (MaxPooling (None, 75, 75, 64)        0         \n",
            "_________________________________________________________________\n",
            "dropout_10 (Dropout)         (None, 75, 75, 64)        0         \n",
            "_________________________________________________________________\n",
            "conv2d_28 (Conv2D)           (None, 75, 75, 128)       73856     \n",
            "_________________________________________________________________\n",
            "conv2d_29 (Conv2D)           (None, 75, 75, 128)       147584    \n",
            "_________________________________________________________________\n",
            "max_pooling2d_11 (MaxPooling (None, 37, 37, 128)       0         \n",
            "_________________________________________________________________\n",
            "dropout_11 (Dropout)         (None, 37, 37, 128)       0         \n",
            "_________________________________________________________________\n",
            "conv2d_30 (Conv2D)           (None, 37, 37, 256)       295168    \n",
            "_________________________________________________________________\n",
            "conv2d_31 (Conv2D)           (None, 37, 37, 256)       590080    \n",
            "_________________________________________________________________\n",
            "conv2d_32 (Conv2D)           (None, 37, 37, 256)       590080    \n",
            "_________________________________________________________________\n",
            "max_pooling2d_12 (MaxPooling (None, 18, 18, 256)       0         \n",
            "_________________________________________________________________\n",
            "dropout_12 (Dropout)         (None, 18, 18, 256)       0         \n",
            "_________________________________________________________________\n",
            "conv2d_33 (Conv2D)           (None, 18, 18, 512)       1180160   \n",
            "_________________________________________________________________\n",
            "conv2d_34 (Conv2D)           (None, 18, 18, 512)       2359808   \n",
            "_________________________________________________________________\n",
            "conv2d_35 (Conv2D)           (None, 18, 18, 512)       2359808   \n",
            "_________________________________________________________________\n",
            "max_pooling2d_13 (MaxPooling (None, 9, 9, 512)         0         \n",
            "_________________________________________________________________\n",
            "dropout_13 (Dropout)         (None, 9, 9, 512)         0         \n",
            "_________________________________________________________________\n",
            "conv2d_36 (Conv2D)           (None, 7, 7, 512)         2359808   \n",
            "_________________________________________________________________\n",
            "conv2d_37 (Conv2D)           (None, 5, 5, 512)         2359808   \n",
            "_________________________________________________________________\n",
            "conv2d_38 (Conv2D)           (None, 3, 3, 512)         2359808   \n",
            "_________________________________________________________________\n",
            "max_pooling2d_14 (MaxPooling (None, 1, 1, 512)         0         \n",
            "_________________________________________________________________\n",
            "dropout_14 (Dropout)         (None, 1, 1, 512)         0         \n",
            "_________________________________________________________________\n",
            "flatten_2 (Flatten)          (None, 512)               0         \n",
            "_________________________________________________________________\n",
            "dense_8 (Dense)              (None, 4096)              2101248   \n",
            "_________________________________________________________________\n",
            "dense_9 (Dense)              (None, 4096)              16781312  \n",
            "_________________________________________________________________\n",
            "dense_10 (Dense)             (None, 4096)              16781312  \n",
            "_________________________________________________________________\n",
            "dense_11 (Dense)             (None, 6)                 24582     \n",
            "=================================================================\n",
            "Total params: 50,403,142\n",
            "Trainable params: 35,688,454\n",
            "Non-trainable params: 14,714,688\n",
            "_________________________________________________________________\n"
          ],
          "name": "stdout"
        }
      ]
    },
    {
      "cell_type": "code",
      "metadata": {
        "id": "cwlRENTqYUia"
      },
      "source": [
        "from keras.optimizers import SGD\r\n",
        "sgd = SGD(lr=0.01, decay=1e-7, momentum=.9) #adaptive learning rate applied\r\n",
        "vgg16.compile(loss='categorical_crossentropy', optimizer=sgd, metrics=['accuracy'])"
      ],
      "execution_count": null,
      "outputs": []
    },
    {
      "cell_type": "code",
      "metadata": {
        "id": "p-kJHCgOYY2H"
      },
      "source": [
        "from keras.preprocessing.image import ImageDataGenerator\r\n",
        "datagen_train = ImageDataGenerator(rescale=1. / 255)\r\n",
        "datagen_validate = ImageDataGenerator(rescale=1. / 255)"
      ],
      "execution_count": null,
      "outputs": []
    },
    {
      "cell_type": "code",
      "metadata": {
        "colab": {
          "base_uri": "https://localhost:8080/"
        },
        "id": "AB3udBDyjQBd",
        "outputId": "69c5e08f-ea66-4c0e-823d-d6506ac790e8"
      },
      "source": [
        "train_dir = \"/content/drive/MyDrive/Colab Notebooks/image_classification/seg_train/\"\r\n",
        "validate_dir = \"/content/drive/MyDrive/Colab Notebooks/image_classification/seg_test/\"\r\n",
        "\r\n",
        "train_it = datagen_train.flow_from_directory(train_dir, target_size=(150,150),class_mode=\"categorical\", batch_size=64,shuffle=True,)\r\n",
        "validate_it = datagen_validate.flow_from_directory(validate_dir, target_size=(150,150),class_mode=\"categorical\", batch_size=64,shuffle=True,)\r\n",
        "\r\n",
        "\r\n",
        "H = vgg16.fit(train_it,batch_size=64,epochs=50,validation_data=validate_it)\r\n"
      ],
      "execution_count": null,
      "outputs": [
        {
          "output_type": "stream",
          "text": [
            "Found 14034 images belonging to 6 classes.\n",
            "Found 3000 images belonging to 6 classes.\n",
            "Epoch 1/50\n",
            "220/220 [==============================] - 41s 184ms/step - loss: 0.2846 - accuracy: 0.9000 - val_loss: 0.3285 - val_accuracy: 0.8813\n",
            "Epoch 2/50\n",
            "220/220 [==============================] - 40s 182ms/step - loss: 0.2690 - accuracy: 0.9047 - val_loss: 0.3338 - val_accuracy: 0.8817\n",
            "Epoch 3/50\n",
            "220/220 [==============================] - 40s 181ms/step - loss: 0.2583 - accuracy: 0.9058 - val_loss: 0.3332 - val_accuracy: 0.8803\n",
            "Epoch 4/50\n",
            "220/220 [==============================] - 39s 178ms/step - loss: 0.2724 - accuracy: 0.9005 - val_loss: 0.3382 - val_accuracy: 0.8843\n",
            "Epoch 5/50\n",
            "220/220 [==============================] - 39s 178ms/step - loss: 0.2549 - accuracy: 0.9125 - val_loss: 0.3331 - val_accuracy: 0.8797\n",
            "Epoch 6/50\n",
            "220/220 [==============================] - 39s 177ms/step - loss: 0.2624 - accuracy: 0.9080 - val_loss: 0.3268 - val_accuracy: 0.8827\n",
            "Epoch 7/50\n",
            "220/220 [==============================] - 39s 176ms/step - loss: 0.2677 - accuracy: 0.9053 - val_loss: 0.3281 - val_accuracy: 0.8827\n",
            "Epoch 8/50\n",
            "220/220 [==============================] - 39s 176ms/step - loss: 0.2695 - accuracy: 0.9011 - val_loss: 0.3294 - val_accuracy: 0.8813\n",
            "Epoch 9/50\n",
            "220/220 [==============================] - 39s 175ms/step - loss: 0.2676 - accuracy: 0.9042 - val_loss: 0.3253 - val_accuracy: 0.8850\n",
            "Epoch 10/50\n",
            "220/220 [==============================] - 39s 177ms/step - loss: 0.2523 - accuracy: 0.9127 - val_loss: 0.3281 - val_accuracy: 0.8840\n",
            "Epoch 11/50\n",
            "220/220 [==============================] - 38s 174ms/step - loss: 0.2533 - accuracy: 0.9101 - val_loss: 0.3249 - val_accuracy: 0.8857\n",
            "Epoch 12/50\n",
            "220/220 [==============================] - 38s 174ms/step - loss: 0.2684 - accuracy: 0.9064 - val_loss: 0.3256 - val_accuracy: 0.8827\n",
            "Epoch 13/50\n",
            "220/220 [==============================] - 38s 173ms/step - loss: 0.2469 - accuracy: 0.9126 - val_loss: 0.3290 - val_accuracy: 0.8817\n",
            "Epoch 14/50\n",
            "220/220 [==============================] - 38s 174ms/step - loss: 0.2541 - accuracy: 0.9079 - val_loss: 0.3226 - val_accuracy: 0.8813\n",
            "Epoch 15/50\n",
            "220/220 [==============================] - 38s 173ms/step - loss: 0.2523 - accuracy: 0.9103 - val_loss: 0.3316 - val_accuracy: 0.8803\n",
            "Epoch 16/50\n",
            "220/220 [==============================] - 38s 175ms/step - loss: 0.2485 - accuracy: 0.9087 - val_loss: 0.3281 - val_accuracy: 0.8840\n",
            "Epoch 17/50\n",
            "220/220 [==============================] - 38s 174ms/step - loss: 0.2517 - accuracy: 0.9104 - val_loss: 0.3314 - val_accuracy: 0.8840\n",
            "Epoch 18/50\n",
            "220/220 [==============================] - 39s 177ms/step - loss: 0.2484 - accuracy: 0.9103 - val_loss: 0.3309 - val_accuracy: 0.8860\n",
            "Epoch 19/50\n",
            "220/220 [==============================] - 38s 174ms/step - loss: 0.2491 - accuracy: 0.9127 - val_loss: 0.3218 - val_accuracy: 0.8853\n",
            "Epoch 20/50\n",
            "220/220 [==============================] - 38s 173ms/step - loss: 0.2590 - accuracy: 0.9087 - val_loss: 0.3262 - val_accuracy: 0.8850\n",
            "Epoch 21/50\n",
            "220/220 [==============================] - 38s 172ms/step - loss: 0.2401 - accuracy: 0.9125 - val_loss: 0.3207 - val_accuracy: 0.8843\n",
            "Epoch 22/50\n",
            "220/220 [==============================] - 38s 173ms/step - loss: 0.2413 - accuracy: 0.9111 - val_loss: 0.3221 - val_accuracy: 0.8847\n",
            "Epoch 23/50\n",
            "220/220 [==============================] - 38s 172ms/step - loss: 0.2331 - accuracy: 0.9129 - val_loss: 0.3266 - val_accuracy: 0.8820\n",
            "Epoch 24/50\n",
            "220/220 [==============================] - 38s 173ms/step - loss: 0.2492 - accuracy: 0.9129 - val_loss: 0.3335 - val_accuracy: 0.8843\n",
            "Epoch 25/50\n",
            "220/220 [==============================] - 38s 171ms/step - loss: 0.2471 - accuracy: 0.9108 - val_loss: 0.3314 - val_accuracy: 0.8850\n",
            "Epoch 26/50\n",
            "220/220 [==============================] - 38s 173ms/step - loss: 0.2295 - accuracy: 0.9162 - val_loss: 0.3241 - val_accuracy: 0.8857\n",
            "Epoch 27/50\n",
            "220/220 [==============================] - 38s 173ms/step - loss: 0.2337 - accuracy: 0.9160 - val_loss: 0.3364 - val_accuracy: 0.8843\n",
            "Epoch 28/50\n",
            "220/220 [==============================] - 38s 171ms/step - loss: 0.2333 - accuracy: 0.9166 - val_loss: 0.3328 - val_accuracy: 0.8860\n",
            "Epoch 29/50\n",
            "220/220 [==============================] - 38s 171ms/step - loss: 0.2361 - accuracy: 0.9137 - val_loss: 0.3307 - val_accuracy: 0.8823\n",
            "Epoch 30/50\n",
            "220/220 [==============================] - 38s 171ms/step - loss: 0.2361 - accuracy: 0.9130 - val_loss: 0.3253 - val_accuracy: 0.8853\n",
            "Epoch 31/50\n",
            "220/220 [==============================] - 38s 171ms/step - loss: 0.2399 - accuracy: 0.9142 - val_loss: 0.3230 - val_accuracy: 0.8883\n",
            "Epoch 32/50\n",
            "220/220 [==============================] - 38s 172ms/step - loss: 0.2316 - accuracy: 0.9191 - val_loss: 0.3379 - val_accuracy: 0.8850\n",
            "Epoch 33/50\n",
            "220/220 [==============================] - 38s 171ms/step - loss: 0.2354 - accuracy: 0.9159 - val_loss: 0.3299 - val_accuracy: 0.8863\n",
            "Epoch 34/50\n",
            "220/220 [==============================] - 37s 170ms/step - loss: 0.2300 - accuracy: 0.9178 - val_loss: 0.3269 - val_accuracy: 0.8817\n",
            "Epoch 35/50\n",
            "220/220 [==============================] - 38s 173ms/step - loss: 0.2222 - accuracy: 0.9199 - val_loss: 0.3294 - val_accuracy: 0.8877\n",
            "Epoch 36/50\n",
            "220/220 [==============================] - 37s 170ms/step - loss: 0.2300 - accuracy: 0.9172 - val_loss: 0.3362 - val_accuracy: 0.8873\n",
            "Epoch 37/50\n",
            "220/220 [==============================] - 38s 171ms/step - loss: 0.2237 - accuracy: 0.9208 - val_loss: 0.3293 - val_accuracy: 0.8890\n",
            "Epoch 38/50\n",
            "220/220 [==============================] - 38s 171ms/step - loss: 0.2167 - accuracy: 0.9197 - val_loss: 0.3307 - val_accuracy: 0.8887\n",
            "Epoch 39/50\n",
            "220/220 [==============================] - 38s 171ms/step - loss: 0.2292 - accuracy: 0.9195 - val_loss: 0.3315 - val_accuracy: 0.8867\n",
            "Epoch 40/50\n",
            "220/220 [==============================] - 38s 170ms/step - loss: 0.2270 - accuracy: 0.9165 - val_loss: 0.3261 - val_accuracy: 0.8860\n",
            "Epoch 41/50\n",
            "220/220 [==============================] - 38s 171ms/step - loss: 0.2202 - accuracy: 0.9162 - val_loss: 0.3375 - val_accuracy: 0.8843\n",
            "Epoch 42/50\n",
            "220/220 [==============================] - 38s 170ms/step - loss: 0.2160 - accuracy: 0.9193 - val_loss: 0.3355 - val_accuracy: 0.8857\n",
            "Epoch 43/50\n",
            "220/220 [==============================] - 38s 174ms/step - loss: 0.2175 - accuracy: 0.9190 - val_loss: 0.3463 - val_accuracy: 0.8803\n",
            "Epoch 44/50\n",
            "220/220 [==============================] - 38s 170ms/step - loss: 0.2167 - accuracy: 0.9186 - val_loss: 0.3358 - val_accuracy: 0.8853\n",
            "Epoch 45/50\n",
            "220/220 [==============================] - 38s 170ms/step - loss: 0.2150 - accuracy: 0.9198 - val_loss: 0.3342 - val_accuracy: 0.8893\n",
            "Epoch 46/50\n",
            "220/220 [==============================] - 38s 171ms/step - loss: 0.2185 - accuracy: 0.9210 - val_loss: 0.3279 - val_accuracy: 0.8873\n",
            "Epoch 47/50\n",
            "220/220 [==============================] - 38s 170ms/step - loss: 0.2139 - accuracy: 0.9231 - val_loss: 0.3394 - val_accuracy: 0.8847\n",
            "Epoch 48/50\n",
            "220/220 [==============================] - 38s 170ms/step - loss: 0.2025 - accuracy: 0.9264 - val_loss: 0.3333 - val_accuracy: 0.8847\n",
            "Epoch 49/50\n",
            "220/220 [==============================] - 38s 171ms/step - loss: 0.2115 - accuracy: 0.9209 - val_loss: 0.3395 - val_accuracy: 0.8853\n",
            "Epoch 50/50\n",
            "220/220 [==============================] - 38s 171ms/step - loss: 0.2062 - accuracy: 0.9274 - val_loss: 0.3433 - val_accuracy: 0.8840\n"
          ],
          "name": "stdout"
        }
      ]
    },
    {
      "cell_type": "code",
      "metadata": {
        "id": "SWRQbLsOIHw9"
      },
      "source": [
        "vgg16.save_weights('vgg16_trained_weights_with_transfer_learning.h5')"
      ],
      "execution_count": null,
      "outputs": []
    },
    {
      "cell_type": "code",
      "metadata": {
        "colab": {
          "base_uri": "https://localhost:8080/",
          "height": 299
        },
        "id": "knA2nItB_Jr6",
        "outputId": "8a880922-3557-4125-e0eb-6004cd4fb92f"
      },
      "source": [
        "'''LEARNING CURVE'''\r\n",
        "\r\n",
        "import matplotlib.pyplot as plt\r\n",
        "import numpy as np\r\n",
        "\r\n",
        "N = np.arange(0, 50)\r\n",
        "plt.style.use('ggplot')\r\n",
        "plt.figure()\r\n",
        "plt.plot(N, H.history['loss'], label='training_loss')\r\n",
        "plt.plot(N, H.history['val_loss'], label='validation_loss')\r\n",
        "plt.plot(N, H.history['accuracy'], label='training_accuracy')\r\n",
        "plt.plot(N, H.history['val_accuracy'], label='validation_accuracy')\r\n",
        "plt.title('Training/Validation loss and accuracy')\r\n",
        "plt.xlabel('Epoch #')\r\n",
        "plt.ylabel('Loss/Accuracy')\r\n",
        "plt.legend()\r\n",
        "plt.show()"
      ],
      "execution_count": null,
      "outputs": [
        {
          "output_type": "display_data",
          "data": {
            "image/png": "[encoded data removed]",
            "text/plain": [
              "<Figure size 432x288 with 1 Axes>"
            ]
          },
          "metadata": {
            "tags": []
          }
        }
      ]
    },
    {
      "cell_type": "code",
      "metadata": {
        "id": "e4ZIZCBrP9_7",
        "colab": {
          "base_uri": "https://localhost:8080/"
        },
        "outputId": "0846bda0-0386-4e6b-9803-9a9d094f3ce2"
      },
      "source": [
        "predict_dir = \"/content/drive/MyDrive/Colab Notebooks/image_classification/seg_pred/\"\r\n",
        "\r\n",
        "from keras.preprocessing.image import ImageDataGenerator\r\n",
        "datagen = ImageDataGenerator(rescale=1. / 255)\r\n",
        "predict_it = datagen.flow_from_directory(predict_dir, target_size=(150,150),class_mode=\"categorical\", batch_size=1,shuffle=False,)\r\n",
        "\r\n",
        "score = vgg16.evaluate_generator(predict_it)\r\n",
        "\r\n",
        "filenames = predict_it.filenames\r\n",
        "nb_samples = len(filenames)\r\n",
        "Y_pred = vgg16.predict_generator(predict_it,steps = nb_samples)\r\n",
        "y_pred = np.argmax(Y_pred, axis=1)\r\n",
        "from sklearn.metrics import classification_report, confusion_matrix\r\n",
        "aa=confusion_matrix(predict_it.classes, y_pred)"
      ],
      "execution_count": null,
      "outputs": [
        {
          "output_type": "stream",
          "text": [
            "Found 7301 images belonging to 6 classes.\n"
          ],
          "name": "stdout"
        },
        {
          "output_type": "stream",
          "text": [
            "/usr/local/lib/python3.6/dist-packages/tensorflow/python/keras/engine/training.py:1877: UserWarning: `Model.evaluate_generator` is deprecated and will be removed in a future version. Please use `Model.evaluate`, which supports generators.\n",
            "  warnings.warn('`Model.evaluate_generator` is deprecated and '\n",
            "/usr/local/lib/python3.6/dist-packages/tensorflow/python/keras/engine/training.py:1905: UserWarning: `Model.predict_generator` is deprecated and will be removed in a future version. Please use `Model.predict`, which supports generators.\n",
            "  warnings.warn('`Model.predict_generator` is deprecated and '\n"
          ],
          "name": "stderr"
        }
      ]
    },
    {
      "cell_type": "code",
      "metadata": {
        "colab": {
          "base_uri": "https://localhost:8080/"
        },
        "id": "qIFI0EaLUZ81",
        "outputId": "14bb1df6-4420-471f-ad97-0097cfad505d"
      },
      "source": [
        "print('Test Loss = ', score[0])\r\n",
        "print('Test Accuracy = ', score[1])\r\n",
        "print('Confusion Matrix = \\n',aa)"
      ],
      "execution_count": null,
      "outputs": [
        {
          "output_type": "stream",
          "text": [
            "Test Loss =  0.4753669798374176\n",
            "Test Accuracy =  0.8660457730293274\n",
            "Confusion Matrix = \n",
            " [[ 954   12    6   13   11  148]\n",
            " [   6 1150    2    1    3    4]\n",
            " [  10    8  989  224   90    9]\n",
            " [  16    8   77 1079  114    3]\n",
            " [  11    7   20   69 1015    6]\n",
            " [  58   15    7    5   15 1136]]\n"
          ],
          "name": "stdout"
        }
      ]
    }
  ]
}