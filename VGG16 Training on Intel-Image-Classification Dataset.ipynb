{
  "nbformat": 4,
  "nbformat_minor": 0,
  "metadata": {
    "colab": {
      "name": "CV_Assignment3.ipynb",
      "provenance": [],
      "collapsed_sections": []
    },
    "kernelspec": {
      "name": "python3",
      "display_name": "Python 3"
    }
  },
  "cells": [
    {
      "cell_type": "code",
      "metadata": {
        "colab": {
          "base_uri": "https://localhost:8080/"
        },
        "id": "ayCRNHKMIGU4",
        "outputId": "1a53be35-3e63-49a3-9dd9-a84fc1298373"
      },
      "source": [
        "GOOGLE_COLAB = True\r\n",
        "path = \"\"\r\n",
        "if GOOGLE_COLAB:\r\n",
        "    from google.colab import drive, files\r\n",
        "    drive.mount('/content/drive/')\r\n"
      ],
      "execution_count": null,
      "outputs": [
        {
          "output_type": "stream",
          "text": [
            "Drive already mounted at /content/drive/; to attempt to forcibly remount, call drive.mount(\"/content/drive/\", force_remount=True).\n"
          ],
          "name": "stdout"
        }
      ]
    },
    {
      "cell_type": "code",
      "metadata": {
        "colab": {
          "base_uri": "https://localhost:8080/"
        },
        "id": "YjdyZmsRSMkw",
        "outputId": "150d5a04-7f15-4ae7-a4e2-451a66d09e18"
      },
      "source": [
        "%cd \"/content/drive/MyDrive/Colab Notebooks/image_classification\""
      ],
      "execution_count": null,
      "outputs": [
        {
          "output_type": "stream",
          "text": [
            "/content/drive/MyDrive/Colab Notebooks/image_classification\n"
          ],
          "name": "stdout"
        }
      ]
    },
    {
      "cell_type": "code",
      "metadata": {
        "id": "fRlYV4twSmxz"
      },
      "source": [
        "#!pip install unrar\r\n",
        "!unrar x image_classification.rar"
      ],
      "execution_count": null,
      "outputs": []
    },
    {
      "cell_type": "code",
      "metadata": {
        "colab": {
          "base_uri": "https://localhost:8080/"
        },
        "id": "r-tpAlp6aLh4",
        "outputId": "a059d8af-7156-4282-98d0-20d2d89b5516"
      },
      "source": [
        "import tensorflow as tf\r\n",
        "from tensorflow.python.client import device_lib\r\n",
        "\r\n",
        "tf.test.gpu_device_name()\r\n",
        "device_lib.list_local_devices()\r\n",
        "!cat /proc/meminfo\r\n",
        "!!cat /proc/cpuinfo\r\n",
        "!nvidia-smi\r\n",
        "!ln -sf /opt/bin/nvidia-smi /usr/bin/nvidia-smi\r\n",
        "!pip install gputil\r\n",
        "!pip install psutil\r\n",
        "!pip install humanize\r\n",
        "import psutil\r\n",
        "import humanize\r\n",
        "import os\r\n",
        "import GPUtil as GPU\r\n",
        "GPUs = GPU.getGPUs()\r\n",
        "# XXX: only one GPU on Colab and isn’t guaranteed\r\n",
        "gpu = GPUs[0]\r\n",
        "def printm():\r\n",
        " process = psutil.Process(os.getpid())\r\n",
        " print(\"Gen RAM Free: \" + humanize.naturalsize( psutil.virtual_memory().available ))\r\n",
        " print(\"GPU RAM Free: {0:.0f}MB | Used: {1:.0f}MB | Util {2:3.0f}% | Total {3:.0f}MB\".format(gpu.memoryFree, gpu.memoryUsed, gpu.memoryUtil*100, gpu.memoryTotal))\r\n",
        "printm()\r\n"
      ],
      "execution_count": null,
      "outputs": [
        {
          "output_type": "stream",
          "text": [
            "MemTotal:       13333596 kB\n",
            "MemFree:        10452080 kB\n",
            "MemAvailable:   11827196 kB\n",
            "Buffers:           49016 kB\n",
            "Cached:          1386212 kB\n",
            "SwapCached:            0 kB\n",
            "Active:          1104648 kB\n",
            "Inactive:        1430300 kB\n",
            "Active(anon):     948360 kB\n",
            "Inactive(anon):     8552 kB\n",
            "Active(file):     156288 kB\n",
            "Inactive(file):  1421748 kB\n",
            "Unevictable:           0 kB\n",
            "Mlocked:               0 kB\n",
            "SwapTotal:             0 kB\n",
            "SwapFree:              0 kB\n",
            "Dirty:               760 kB\n",
            "Writeback:             0 kB\n",
            "AnonPages:       1099780 kB\n",
            "Mapped:           526524 kB\n",
            "Shmem:              9160 kB\n",
            "Slab:             123308 kB\n",
            "SReclaimable:      76608 kB\n",
            "SUnreclaim:        46700 kB\n",
            "KernelStack:        4704 kB\n",
            "PageTables:        10064 kB\n",
            "NFS_Unstable:          0 kB\n",
            "Bounce:                0 kB\n",
            "WritebackTmp:          0 kB\n",
            "CommitLimit:     6666796 kB\n",
            "Committed_AS:    3926252 kB\n",
            "VmallocTotal:   34359738367 kB\n",
            "VmallocUsed:           0 kB\n",
            "VmallocChunk:          0 kB\n",
            "Percpu:              968 kB\n",
            "AnonHugePages:         0 kB\n",
            "ShmemHugePages:        0 kB\n",
            "ShmemPmdMapped:        0 kB\n",
            "HugePages_Total:       0\n",
            "HugePages_Free:        0\n",
            "HugePages_Rsvd:        0\n",
            "HugePages_Surp:        0\n",
            "Hugepagesize:       2048 kB\n",
            "Hugetlb:               0 kB\n",
            "DirectMap4k:      457960 kB\n",
            "DirectMap2M:    10027008 kB\n",
            "DirectMap1G:     5242880 kB\n",
            "Sat Jan  2 15:07:29 2021       \n",
            "+-----------------------------------------------------------------------------+\n",
            "| NVIDIA-SMI 418.67       Driver Version: 418.67       CUDA Version: 10.1     |\n",
            "|-------------------------------+----------------------+----------------------+\n",
            "| GPU  Name        Persistence-M| Bus-Id        Disp.A | Volatile Uncorr. ECC |\n",
            "| Fan  Temp  Perf  Pwr:Usage/Cap|         Memory-Usage | GPU-Util  Compute M. |\n",
            "|===============================+======================+======================|\n",
            "|   0  Tesla T4            Off  | 00000000:00:04.0 Off |                    0 |\n",
            "| N/A   40C    P0    27W /  70W |    227MiB / 15079MiB |      0%      Default |\n",
            "+-------------------------------+----------------------+----------------------+\n",
            "                                                                               \n",
            "+-----------------------------------------------------------------------------+\n",
            "| Processes:                                                       GPU Memory |\n",
            "|  GPU       PID   Type   Process name                             Usage      |\n",
            "|=============================================================================|\n",
            "+-----------------------------------------------------------------------------+\n",
            "Requirement already satisfied: gputil in /usr/local/lib/python3.6/dist-packages (1.4.0)\n",
            "Requirement already satisfied: psutil in /usr/local/lib/python3.6/dist-packages (5.4.8)\n",
            "Requirement already satisfied: humanize in /usr/local/lib/python3.6/dist-packages (0.5.1)\n",
            "Gen RAM Free: 12.1 GB\n",
            "GPU RAM Free: 14852MB | Used: 227MB | Util   2% | Total 15079MB\n"
          ],
          "name": "stdout"
        }
      ]
    },
    {
      "cell_type": "code",
      "metadata": {
        "id": "NXxmZPEVOJhq"
      },
      "source": [
        "def creat_model():\r\n",
        "  import keras\r\n",
        "  from keras.layers import Conv2D, Dense, MaxPooling2D, Flatten, Dropout\r\n",
        "  from keras.models import Sequential\r\n",
        "\r\n",
        "  model = Sequential()\r\n",
        "\r\n",
        "  model.add(Conv2D(64, kernel_size=3, padding='same', activation='relu', input_shape=(150, 150, 3)))\r\n",
        "  model.add(Conv2D(64, kernel_size=3, padding='same', activation='relu'))\r\n",
        "  model.add(MaxPooling2D(pool_size=2, strides=2))\r\n",
        "  model.add(Dropout(0.25))\r\n",
        "\r\n",
        "  model.add(Conv2D(128, kernel_size=3, padding='same', activation='relu'))\r\n",
        "  model.add(Conv2D(128, kernel_size=3, padding='same', activation='relu'))\r\n",
        "  model.add(MaxPooling2D(pool_size=2, strides=2))\r\n",
        "  model.add(Dropout(0.25))\r\n",
        "\r\n",
        "  model.add(Conv2D(256, kernel_size=3, padding='same', activation='relu'))\r\n",
        "  model.add(Conv2D(256, kernel_size=3, padding='same', activation='relu'))\r\n",
        "  model.add(Conv2D(256, kernel_size=3, padding='same', activation='relu'))\r\n",
        "  model.add(MaxPooling2D(pool_size=2, strides=2))\r\n",
        "  model.add(Dropout(0.25))\r\n",
        "\r\n",
        "  model.add(Conv2D(512, kernel_size=3, padding='same', activation='relu'))\r\n",
        "  model.add(Conv2D(512, kernel_size=3, padding='same', activation='relu'))\r\n",
        "  model.add(Conv2D(512, kernel_size=3, padding='same', activation='relu'))\r\n",
        "  model.add(MaxPooling2D(pool_size=2, strides=2))\r\n",
        "  model.add(Dropout(0.25))\r\n",
        "\r\n",
        "  model.add(Conv2D(512, kernel_size=3, activation='relu'))\r\n",
        "  model.add(Conv2D(512, kernel_size=3, activation='relu'))\r\n",
        "  model.add(Conv2D(512, kernel_size=3, activation='relu'))\r\n",
        "  model.add(MaxPooling2D(pool_size=2, strides=2))\r\n",
        "  model.add(Dropout(0.25))\r\n",
        "\r\n",
        "  model.add(Flatten())\r\n",
        "\r\n",
        "  model.add(Dense(4096, activation='relu'))\r\n",
        "  model.add(Dense(4096, activation='relu'))\r\n",
        "  model.add(Dense(4096, activation='relu'))\r\n",
        "\r\n",
        "  # the data we are using has 6 classes\r\n",
        "  model.add(Dense(6, activation='softmax'))\r\n",
        "\r\n",
        "  return model"
      ],
      "execution_count": null,
      "outputs": []
    },
    {
      "cell_type": "code",
      "metadata": {
        "colab": {
          "base_uri": "https://localhost:8080/"
        },
        "id": "AmwohBjmdSLy",
        "outputId": "b96de410-cec2-423f-b896-c4e33143d9c6"
      },
      "source": [
        "vgg16 = creat_model()\r\n",
        "vgg16.summary()"
      ],
      "execution_count": null,
      "outputs": [
        {
          "output_type": "stream",
          "text": [
            "Model: \"sequential\"\n",
            "_________________________________________________________________\n",
            "Layer (type)                 Output Shape              Param #   \n",
            "=================================================================\n",
            "conv2d (Conv2D)              (None, 150, 150, 64)      1792      \n",
            "_________________________________________________________________\n",
            "conv2d_1 (Conv2D)            (None, 150, 150, 64)      36928     \n",
            "_________________________________________________________________\n",
            "max_pooling2d (MaxPooling2D) (None, 75, 75, 64)        0         \n",
            "_________________________________________________________________\n",
            "dropout (Dropout)            (None, 75, 75, 64)        0         \n",
            "_________________________________________________________________\n",
            "conv2d_2 (Conv2D)            (None, 75, 75, 128)       73856     \n",
            "_________________________________________________________________\n",
            "conv2d_3 (Conv2D)            (None, 75, 75, 128)       147584    \n",
            "_________________________________________________________________\n",
            "max_pooling2d_1 (MaxPooling2 (None, 37, 37, 128)       0         \n",
            "_________________________________________________________________\n",
            "dropout_1 (Dropout)          (None, 37, 37, 128)       0         \n",
            "_________________________________________________________________\n",
            "conv2d_4 (Conv2D)            (None, 37, 37, 256)       295168    \n",
            "_________________________________________________________________\n",
            "conv2d_5 (Conv2D)            (None, 37, 37, 256)       590080    \n",
            "_________________________________________________________________\n",
            "conv2d_6 (Conv2D)            (None, 37, 37, 256)       590080    \n",
            "_________________________________________________________________\n",
            "max_pooling2d_2 (MaxPooling2 (None, 18, 18, 256)       0         \n",
            "_________________________________________________________________\n",
            "dropout_2 (Dropout)          (None, 18, 18, 256)       0         \n",
            "_________________________________________________________________\n",
            "conv2d_7 (Conv2D)            (None, 18, 18, 512)       1180160   \n",
            "_________________________________________________________________\n",
            "conv2d_8 (Conv2D)            (None, 18, 18, 512)       2359808   \n",
            "_________________________________________________________________\n",
            "conv2d_9 (Conv2D)            (None, 18, 18, 512)       2359808   \n",
            "_________________________________________________________________\n",
            "max_pooling2d_3 (MaxPooling2 (None, 9, 9, 512)         0         \n",
            "_________________________________________________________________\n",
            "dropout_3 (Dropout)          (None, 9, 9, 512)         0         \n",
            "_________________________________________________________________\n",
            "conv2d_10 (Conv2D)           (None, 7, 7, 512)         2359808   \n",
            "_________________________________________________________________\n",
            "conv2d_11 (Conv2D)           (None, 5, 5, 512)         2359808   \n",
            "_________________________________________________________________\n",
            "conv2d_12 (Conv2D)           (None, 3, 3, 512)         2359808   \n",
            "_________________________________________________________________\n",
            "max_pooling2d_4 (MaxPooling2 (None, 1, 1, 512)         0         \n",
            "_________________________________________________________________\n",
            "dropout_4 (Dropout)          (None, 1, 1, 512)         0         \n",
            "_________________________________________________________________\n",
            "flatten (Flatten)            (None, 512)               0         \n",
            "_________________________________________________________________\n",
            "dense (Dense)                (None, 4096)              2101248   \n",
            "_________________________________________________________________\n",
            "dense_1 (Dense)              (None, 4096)              16781312  \n",
            "_________________________________________________________________\n",
            "dense_2 (Dense)              (None, 4096)              16781312  \n",
            "_________________________________________________________________\n",
            "dense_3 (Dense)              (None, 6)                 24582     \n",
            "=================================================================\n",
            "Total params: 50,403,142\n",
            "Trainable params: 50,403,142\n",
            "Non-trainable params: 0\n",
            "_________________________________________________________________\n"
          ],
          "name": "stdout"
        }
      ]
    },
    {
      "cell_type": "code",
      "metadata": {
        "id": "o4FixHQdOADU"
      },
      "source": [
        "from keras.optimizers import SGD\r\n",
        "sgd = SGD(lr=0.001, decay=1e-7, momentum=.9)\r\n",
        "vgg16.compile(loss='categorical_crossentropy', optimizer=sgd, metrics=['accuracy'])"
      ],
      "execution_count": null,
      "outputs": []
    },
    {
      "cell_type": "code",
      "metadata": {
        "id": "eaaPDPZsOvkB"
      },
      "source": [
        "from keras.preprocessing.image import ImageDataGenerator\r\n",
        "datagen = ImageDataGenerator()"
      ],
      "execution_count": null,
      "outputs": []
    },
    {
      "cell_type": "code",
      "metadata": {
        "colab": {
          "base_uri": "https://localhost:8080/"
        },
        "id": "AB3udBDyjQBd",
        "outputId": "564b8287-ea5d-43c5-98fe-9ff7038cbf7a"
      },
      "source": [
        "train_dir = \"/content/drive/MyDrive/Colab Notebooks/image_classification/seg_train/\"\r\n",
        "test_dir = \"/content/drive/MyDrive/Colab Notebooks/image_classification/seg_test/\"\r\n",
        "\r\n",
        "train_it = datagen.flow_from_directory(train_dir, target_size=(150,150),class_mode=\"categorical\", batch_size=64,shuffle=True,)\r\n",
        "test_it = datagen.flow_from_directory(test_dir, target_size=(150,150),class_mode=\"categorical\", batch_size=64,shuffle=True,)\r\n",
        "\r\n",
        "H = vgg16.fit(train_it,batch_size=64,epochs=50,validation_data=test_it)"
      ],
      "execution_count": null,
      "outputs": [
        {
          "output_type": "stream",
          "text": [
            "Found 14034 images belonging to 6 classes.\n",
            "Found 3000 images belonging to 6 classes.\n",
            "Epoch 1/50\n",
            "220/220 [==============================] - 116s 475ms/step - loss: 1.7623 - accuracy: 0.2200 - val_loss: 1.3367 - val_accuracy: 0.4510\n",
            "Epoch 2/50\n",
            "220/220 [==============================] - 99s 451ms/step - loss: 1.1892 - accuracy: 0.5239 - val_loss: 1.2280 - val_accuracy: 0.5177\n",
            "Epoch 3/50\n",
            "220/220 [==============================] - 99s 450ms/step - loss: 1.0358 - accuracy: 0.5820 - val_loss: 1.0623 - val_accuracy: 0.5750\n",
            "Epoch 4/50\n",
            "220/220 [==============================] - 99s 450ms/step - loss: 0.9534 - accuracy: 0.6158 - val_loss: 0.9662 - val_accuracy: 0.6490\n",
            "Epoch 5/50\n",
            "220/220 [==============================] - 99s 450ms/step - loss: 0.9068 - accuracy: 0.6462 - val_loss: 0.8705 - val_accuracy: 0.6587\n",
            "Epoch 6/50\n",
            "220/220 [==============================] - 99s 450ms/step - loss: 0.8522 - accuracy: 0.6626 - val_loss: 0.8158 - val_accuracy: 0.7257\n",
            "Epoch 7/50\n",
            "220/220 [==============================] - 99s 450ms/step - loss: 0.7701 - accuracy: 0.7086 - val_loss: 0.7436 - val_accuracy: 0.7407\n",
            "Epoch 8/50\n",
            "220/220 [==============================] - 99s 448ms/step - loss: 0.7390 - accuracy: 0.7273 - val_loss: 0.7247 - val_accuracy: 0.7727\n",
            "Epoch 9/50\n",
            "220/220 [==============================] - 99s 449ms/step - loss: 0.6594 - accuracy: 0.7542 - val_loss: 0.7016 - val_accuracy: 0.7653\n",
            "Epoch 10/50\n",
            "220/220 [==============================] - 99s 448ms/step - loss: 0.6259 - accuracy: 0.7772 - val_loss: 0.6089 - val_accuracy: 0.7980\n",
            "Epoch 11/50\n",
            "220/220 [==============================] - 99s 449ms/step - loss: 0.5880 - accuracy: 0.7917 - val_loss: 0.7674 - val_accuracy: 0.7343\n",
            "Epoch 12/50\n",
            "220/220 [==============================] - 99s 448ms/step - loss: 0.5547 - accuracy: 0.8014 - val_loss: 0.5202 - val_accuracy: 0.8193\n",
            "Epoch 13/50\n",
            "220/220 [==============================] - 99s 448ms/step - loss: 0.5251 - accuracy: 0.8135 - val_loss: 0.6783 - val_accuracy: 0.7737\n",
            "Epoch 14/50\n",
            "220/220 [==============================] - 99s 448ms/step - loss: 0.5012 - accuracy: 0.8220 - val_loss: 0.5124 - val_accuracy: 0.8313\n",
            "Epoch 15/50\n",
            "220/220 [==============================] - 99s 448ms/step - loss: 0.4944 - accuracy: 0.8246 - val_loss: 0.4634 - val_accuracy: 0.8367\n",
            "Epoch 16/50\n",
            "220/220 [==============================] - 99s 447ms/step - loss: 0.4764 - accuracy: 0.8306 - val_loss: 0.4787 - val_accuracy: 0.8310\n",
            "Epoch 17/50\n",
            "220/220 [==============================] - 99s 448ms/step - loss: 0.4620 - accuracy: 0.8380 - val_loss: 0.5359 - val_accuracy: 0.8253\n",
            "Epoch 18/50\n",
            "220/220 [==============================] - 99s 448ms/step - loss: 0.4493 - accuracy: 0.8436 - val_loss: 0.4777 - val_accuracy: 0.8387\n",
            "Epoch 19/50\n",
            "220/220 [==============================] - 98s 447ms/step - loss: 0.4344 - accuracy: 0.8465 - val_loss: 0.6499 - val_accuracy: 0.7750\n",
            "Epoch 20/50\n",
            "220/220 [==============================] - 98s 447ms/step - loss: 0.4458 - accuracy: 0.8405 - val_loss: 0.4515 - val_accuracy: 0.8530\n",
            "Epoch 21/50\n",
            "220/220 [==============================] - 98s 447ms/step - loss: 0.4180 - accuracy: 0.8518 - val_loss: 0.4476 - val_accuracy: 0.8527\n",
            "Epoch 22/50\n",
            "220/220 [==============================] - 98s 447ms/step - loss: 0.4012 - accuracy: 0.8554 - val_loss: 0.4250 - val_accuracy: 0.8520\n",
            "Epoch 23/50\n",
            "220/220 [==============================] - 99s 450ms/step - loss: 0.3897 - accuracy: 0.8614 - val_loss: 0.4415 - val_accuracy: 0.8497\n",
            "Epoch 24/50\n",
            "220/220 [==============================] - 98s 447ms/step - loss: 0.3514 - accuracy: 0.8782 - val_loss: 0.4319 - val_accuracy: 0.8480\n",
            "Epoch 25/50\n",
            "220/220 [==============================] - 99s 447ms/step - loss: 0.3584 - accuracy: 0.8729 - val_loss: 0.4244 - val_accuracy: 0.8570\n",
            "Epoch 26/50\n",
            "220/220 [==============================] - 98s 446ms/step - loss: 0.3368 - accuracy: 0.8798 - val_loss: 0.5035 - val_accuracy: 0.8310\n",
            "Epoch 27/50\n",
            "220/220 [==============================] - 98s 447ms/step - loss: 0.3423 - accuracy: 0.8788 - val_loss: 0.4296 - val_accuracy: 0.8513\n",
            "Epoch 28/50\n",
            "220/220 [==============================] - 98s 447ms/step - loss: 0.3143 - accuracy: 0.8843 - val_loss: 0.4385 - val_accuracy: 0.8490\n",
            "Epoch 29/50\n",
            "220/220 [==============================] - 98s 447ms/step - loss: 0.3120 - accuracy: 0.8835 - val_loss: 0.4339 - val_accuracy: 0.8513\n",
            "Epoch 30/50\n",
            "220/220 [==============================] - 98s 446ms/step - loss: 0.3110 - accuracy: 0.8928 - val_loss: 0.3963 - val_accuracy: 0.8640\n",
            "Epoch 31/50\n",
            "220/220 [==============================] - 99s 448ms/step - loss: 0.2899 - accuracy: 0.8981 - val_loss: 0.4494 - val_accuracy: 0.8423\n",
            "Epoch 32/50\n",
            "220/220 [==============================] - 98s 447ms/step - loss: 0.2899 - accuracy: 0.8942 - val_loss: 0.4096 - val_accuracy: 0.8637\n",
            "Epoch 33/50\n",
            "220/220 [==============================] - 98s 447ms/step - loss: 0.2809 - accuracy: 0.8991 - val_loss: 0.4022 - val_accuracy: 0.8700\n",
            "Epoch 34/50\n",
            "220/220 [==============================] - 98s 446ms/step - loss: 0.2763 - accuracy: 0.8990 - val_loss: 0.4876 - val_accuracy: 0.8297\n",
            "Epoch 35/50\n",
            "220/220 [==============================] - 98s 447ms/step - loss: 0.2536 - accuracy: 0.9067 - val_loss: 0.4339 - val_accuracy: 0.8573\n",
            "Epoch 36/50\n",
            "220/220 [==============================] - 98s 447ms/step - loss: 0.2436 - accuracy: 0.9110 - val_loss: 0.4182 - val_accuracy: 0.8587\n",
            "Epoch 37/50\n",
            "220/220 [==============================] - 98s 446ms/step - loss: 0.2355 - accuracy: 0.9148 - val_loss: 0.4207 - val_accuracy: 0.8640\n",
            "Epoch 38/50\n",
            "220/220 [==============================] - 98s 447ms/step - loss: 0.2341 - accuracy: 0.9187 - val_loss: 0.4469 - val_accuracy: 0.8547\n",
            "Epoch 39/50\n",
            "220/220 [==============================] - 99s 447ms/step - loss: 0.2202 - accuracy: 0.9215 - val_loss: 0.4405 - val_accuracy: 0.8623\n",
            "Epoch 40/50\n",
            "220/220 [==============================] - 98s 446ms/step - loss: 0.2169 - accuracy: 0.9207 - val_loss: 0.4264 - val_accuracy: 0.8543\n",
            "Epoch 41/50\n",
            "220/220 [==============================] - 98s 446ms/step - loss: 0.2063 - accuracy: 0.9244 - val_loss: 0.4353 - val_accuracy: 0.8583\n",
            "Epoch 42/50\n",
            "220/220 [==============================] - 98s 445ms/step - loss: 0.1899 - accuracy: 0.9330 - val_loss: 0.5268 - val_accuracy: 0.8353\n",
            "Epoch 43/50\n",
            "220/220 [==============================] - 98s 446ms/step - loss: 0.1902 - accuracy: 0.9278 - val_loss: 0.4345 - val_accuracy: 0.8600\n",
            "Epoch 44/50\n",
            "220/220 [==============================] - 98s 446ms/step - loss: 0.1805 - accuracy: 0.9343 - val_loss: 0.4618 - val_accuracy: 0.8563\n",
            "Epoch 45/50\n",
            "220/220 [==============================] - 98s 447ms/step - loss: 0.1625 - accuracy: 0.9408 - val_loss: 0.4585 - val_accuracy: 0.8640\n",
            "Epoch 46/50\n",
            "220/220 [==============================] - 98s 447ms/step - loss: 0.1782 - accuracy: 0.9362 - val_loss: 0.4928 - val_accuracy: 0.8563\n",
            "Epoch 47/50\n",
            "220/220 [==============================] - 98s 447ms/step - loss: 0.1406 - accuracy: 0.9481 - val_loss: 0.4470 - val_accuracy: 0.8657\n",
            "Epoch 48/50\n",
            "220/220 [==============================] - 98s 447ms/step - loss: 0.1389 - accuracy: 0.9480 - val_loss: 0.4596 - val_accuracy: 0.8587\n",
            "Epoch 49/50\n",
            "220/220 [==============================] - 98s 446ms/step - loss: 0.1380 - accuracy: 0.9493 - val_loss: 0.4774 - val_accuracy: 0.8657\n",
            "Epoch 50/50\n",
            "220/220 [==============================] - 98s 446ms/step - loss: 0.1286 - accuracy: 0.9527 - val_loss: 0.6084 - val_accuracy: 0.8207\n"
          ],
          "name": "stdout"
        }
      ]
    },
    {
      "cell_type": "code",
      "metadata": {
        "id": "SWRQbLsOIHw9"
      },
      "source": [
        "vgg16.save_weights('vgg16_trained_weights.h5')"
      ],
      "execution_count": null,
      "outputs": []
    },
    {
      "cell_type": "code",
      "metadata": {
        "colab": {
          "base_uri": "https://localhost:8080/",
          "height": 299
        },
        "id": "knA2nItB_Jr6",
        "outputId": "8149b266-7d3f-4931-b347-988ee0969ad1"
      },
      "source": [
        "'''LEARNING CURVE'''\r\n",
        "\r\n",
        "import matplotlib.pyplot as plt\r\n",
        "import numpy as np\r\n",
        "\r\n",
        "N = np.arange(0, 50)\r\n",
        "plt.style.use('ggplot')\r\n",
        "plt.figure()\r\n",
        "plt.plot(N, H.history['loss'], label='train_loss')\r\n",
        "plt.plot(N, H.history['val_loss'], label='val_loss')\r\n",
        "plt.plot(N, H.history['accuracy'], label='train_accuracy')\r\n",
        "plt.plot(N, H.history['val_accuracy'], label='val_accuracy')\r\n",
        "plt.title('Training loss and accuracy')\r\n",
        "plt.xlabel('Epoch #')\r\n",
        "plt.ylabel('Loss/Accuracy')\r\n",
        "plt.legend()\r\n",
        "plt.show()"
      ],
      "execution_count": null,
      "outputs": [
        {
          "output_type": "display_data",
          "data": {
            "image/png": "[encoded data removed]",
            "text/plain": [
              "<Figure size 432x288 with 1 Axes>"
            ]
          },
          "metadata": {
            "tags": []
          }
        }
      ]
    },
    {
      "cell_type": "code",
      "metadata": {
        "id": "e4ZIZCBrP9_7"
      },
      "source": [
        "predict_dir = \"/content/drive/MyDrive/Colab Notebooks/image_classification/seg_pred/\"\r\n",
        "\r\n",
        "from keras.preprocessing.image import ImageDataGenerator\r\n",
        "datagen = ImageDataGenerator()\r\n",
        "predict_it = datagen.flow_from_directory(predict_dir, target_size=(150,150),class_mode=\"categorical\", batch_size=1,shuffle=False,)\r\n",
        "\r\n",
        "score = vgg16.evaluate_generator(predict_it)\r\n",
        "\r\n",
        "filenames = predict_it.filenames\r\n",
        "nb_samples = len(filenames)\r\n",
        "Y_pred = vgg16.predict_generator(predict_it,steps = nb_samples)\r\n",
        "y_pred = np.argmax(Y_pred, axis=1)\r\n",
        "aa=confusion_matrix(predict_it.classes, y_pred)"
      ],
      "execution_count": null,
      "outputs": []
    },
    {
      "cell_type": "code",
      "metadata": {
        "colab": {
          "base_uri": "https://localhost:8080/"
        },
        "id": "qIFI0EaLUZ81",
        "outputId": "d70a909c-94b3-4921-e876-dd17b33b40b3"
      },
      "source": [
        "print('Test Loss = ', score[0])\r\n",
        "print('Test Accuracy = ', score[1])\r\n",
        "print('Confusion Matrix = \\n',aa)"
      ],
      "execution_count": null,
      "outputs": [
        {
          "output_type": "stream",
          "text": [
            "Test Loss =  0.6256765723228455\n",
            "Test Accuracy =  0.8193398118019104\n",
            "Confusion Matrix = \n",
            " [[ 884   26   25   43    7  159]\n",
            " [   1 1139    7    9    4    6]\n",
            " [   2    6  955  320   42    5]\n",
            " [   3    7  100 1136   50    1]\n",
            " [   4    3   95  180  835   11]\n",
            " [  83   75   20   15   10 1033]]\n"
          ],
          "name": "stdout"
        }
      ]
    }
  ]
}