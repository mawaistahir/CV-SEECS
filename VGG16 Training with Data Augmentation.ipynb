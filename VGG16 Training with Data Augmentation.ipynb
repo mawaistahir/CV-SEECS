{
  "nbformat": 4,
  "nbformat_minor": 0,
  "metadata": {
    "colab": {
      "name": "CV_Assignment3_Data_Augmentation.ipynb",
      "provenance": [],
      "collapsed_sections": []
    },
    "kernelspec": {
      "name": "python3",
      "display_name": "Python 3"
    },
    "accelerator": "GPU"
  },
  "cells": [
    {
      "cell_type": "code",
      "metadata": {
        "colab": {
          "base_uri": "https://localhost:8080/"
        },
        "id": "ayCRNHKMIGU4",
        "outputId": "4ab3d60b-51a5-4c1c-f810-b0e0a4497378"
      },
      "source": [
        "GOOGLE_COLAB = True\r\n",
        "path = \"\"\r\n",
        "if GOOGLE_COLAB:\r\n",
        "    from google.colab import drive, files\r\n",
        "    drive.mount('/content/drive/')\r\n"
      ],
      "execution_count": null,
      "outputs": [
        {
          "output_type": "stream",
          "text": [
            "Mounted at /content/drive/\n"
          ],
          "name": "stdout"
        }
      ]
    },
    {
      "cell_type": "code",
      "metadata": {
        "colab": {
          "base_uri": "https://localhost:8080/"
        },
        "id": "YjdyZmsRSMkw",
        "outputId": "25c46cbd-59b3-4075-e79b-28fba4fd72ac"
      },
      "source": [
        "%cd \"/content/drive/MyDrive/Colab Notebooks/image_classification\""
      ],
      "execution_count": null,
      "outputs": [
        {
          "output_type": "stream",
          "text": [
            "/content/drive/MyDrive/Colab Notebooks/image_classification\n"
          ],
          "name": "stdout"
        }
      ]
    },
    {
      "cell_type": "code",
      "metadata": {
        "id": "fRlYV4twSmxz"
      },
      "source": [
        "#!pip install unrar\r\n",
        "!unrar x image_classification.rar"
      ],
      "execution_count": null,
      "outputs": []
    },
    {
      "cell_type": "code",
      "metadata": {
        "colab": {
          "base_uri": "https://localhost:8080/"
        },
        "id": "r-tpAlp6aLh4",
        "outputId": "db3d042e-6fc0-4535-9ed8-76452700d8ae"
      },
      "source": [
        "import tensorflow as tf\r\n",
        "from tensorflow.python.client import device_lib\r\n",
        "\r\n",
        "tf.test.gpu_device_name()\r\n",
        "device_lib.list_local_devices()\r\n",
        "!cat /proc/meminfo\r\n",
        "!!cat /proc/cpuinfo\r\n",
        "!nvidia-smi\r\n",
        "!ln -sf /opt/bin/nvidia-smi /usr/bin/nvidia-smi\r\n",
        "!pip install gputil\r\n",
        "!pip install psutil\r\n",
        "!pip install humanize\r\n",
        "import psutil\r\n",
        "import humanize\r\n",
        "import os\r\n",
        "import GPUtil as GPU\r\n",
        "GPUs = GPU.getGPUs()\r\n",
        "# XXX: only one GPU on Colab and isn’t guaranteed\r\n",
        "gpu = GPUs[0]\r\n",
        "def printm():\r\n",
        " process = psutil.Process(os.getpid())\r\n",
        " print(\"Gen RAM Free: \" + humanize.naturalsize( psutil.virtual_memory().available ))\r\n",
        " print(\"GPU RAM Free: {0:.0f}MB | Used: {1:.0f}MB | Util {2:3.0f}% | Total {3:.0f}MB\".format(gpu.memoryFree, gpu.memoryUsed, gpu.memoryUtil*100, gpu.memoryTotal))\r\n",
        "printm()\r\n"
      ],
      "execution_count": null,
      "outputs": [
        {
          "output_type": "stream",
          "text": [
            "MemTotal:       13333580 kB\n",
            "MemFree:         9365004 kB\n",
            "MemAvailable:   11902348 kB\n",
            "Buffers:           80292 kB\n",
            "Cached:          2483916 kB\n",
            "SwapCached:            0 kB\n",
            "Active:          1133076 kB\n",
            "Inactive:        2406528 kB\n",
            "Active(anon):     815776 kB\n",
            "Inactive(anon):     8544 kB\n",
            "Active(file):     317300 kB\n",
            "Inactive(file):  2397984 kB\n",
            "Unevictable:           0 kB\n",
            "Mlocked:               0 kB\n",
            "SwapTotal:             0 kB\n",
            "SwapFree:              0 kB\n",
            "Dirty:              3604 kB\n",
            "Writeback:             0 kB\n",
            "AnonPages:        975288 kB\n",
            "Mapped:           629236 kB\n",
            "Shmem:              9156 kB\n",
            "Slab:             172564 kB\n",
            "SReclaimable:     125932 kB\n",
            "SUnreclaim:        46632 kB\n",
            "KernelStack:        4720 kB\n",
            "PageTables:         9312 kB\n",
            "NFS_Unstable:          0 kB\n",
            "Bounce:                0 kB\n",
            "WritebackTmp:          0 kB\n",
            "CommitLimit:     6666788 kB\n",
            "Committed_AS:    3687704 kB\n",
            "VmallocTotal:   34359738367 kB\n",
            "VmallocUsed:           0 kB\n",
            "VmallocChunk:          0 kB\n",
            "Percpu:              952 kB\n",
            "AnonHugePages:         0 kB\n",
            "ShmemHugePages:        0 kB\n",
            "ShmemPmdMapped:        0 kB\n",
            "HugePages_Total:       0\n",
            "HugePages_Free:        0\n",
            "HugePages_Rsvd:        0\n",
            "HugePages_Surp:        0\n",
            "Hugepagesize:       2048 kB\n",
            "Hugetlb:               0 kB\n",
            "DirectMap4k:      206056 kB\n",
            "DirectMap2M:     6084608 kB\n",
            "DirectMap1G:     9437184 kB\n",
            "Sun Jan  3 11:01:53 2021       \n",
            "+-----------------------------------------------------------------------------+\n",
            "| NVIDIA-SMI 460.27.04    Driver Version: 418.67       CUDA Version: 10.1     |\n",
            "|-------------------------------+----------------------+----------------------+\n",
            "| GPU  Name        Persistence-M| Bus-Id        Disp.A | Volatile Uncorr. ECC |\n",
            "| Fan  Temp  Perf  Pwr:Usage/Cap|         Memory-Usage | GPU-Util  Compute M. |\n",
            "|                               |                      |               MIG M. |\n",
            "|===============================+======================+======================|\n",
            "|   0  Tesla P100-PCIE...  Off  | 00000000:00:04.0 Off |                    0 |\n",
            "| N/A   35C    P0    32W / 250W |    359MiB / 16280MiB |      0%      Default |\n",
            "|                               |                      |                 ERR! |\n",
            "+-------------------------------+----------------------+----------------------+\n",
            "                                                                               \n",
            "+-----------------------------------------------------------------------------+\n",
            "| Processes:                                                                  |\n",
            "|  GPU   GI   CI        PID   Type   Process name                  GPU Memory |\n",
            "|        ID   ID                                                   Usage      |\n",
            "|=============================================================================|\n",
            "|  No running processes found                                                 |\n",
            "+-----------------------------------------------------------------------------+\n",
            "Collecting gputil\n",
            "  Downloading https://files.pythonhosted.org/packages/ed/0e/5c61eedde9f6c87713e89d794f01e378cfd9565847d4576fa627d758c554/GPUtil-1.4.0.tar.gz\n",
            "Building wheels for collected packages: gputil\n",
            "  Building wheel for gputil (setup.py) ... \u001b[?25l\u001b[?25hdone\n",
            "  Created wheel for gputil: filename=GPUtil-1.4.0-cp36-none-any.whl size=7411 sha256=6f75bc6ee4208e3e55ecb41c05cf885df52cbd5c5b678f9173284028d00336a2\n",
            "  Stored in directory: /root/.cache/pip/wheels/3d/77/07/80562de4bb0786e5ea186911a2c831fdd0018bda69beab71fd\n",
            "Successfully built gputil\n",
            "Installing collected packages: gputil\n",
            "Successfully installed gputil-1.4.0\n",
            "Requirement already satisfied: psutil in /usr/local/lib/python3.6/dist-packages (5.4.8)\n",
            "Requirement already satisfied: humanize in /usr/local/lib/python3.6/dist-packages (0.5.1)\n",
            "Gen RAM Free: 12.2 GB\n",
            "GPU RAM Free: 15921MB | Used: 359MB | Util   2% | Total 16280MB\n"
          ],
          "name": "stdout"
        }
      ]
    },
    {
      "cell_type": "code",
      "metadata": {
        "id": "AmwohBjmdSLy"
      },
      "source": [
        "\r\n",
        "def creat_model():\r\n",
        "  import keras\r\n",
        "  from keras.layers import Conv2D, Dense, MaxPooling2D, Flatten, Dropout\r\n",
        "  from keras.models import Sequential\r\n",
        "\r\n",
        "  model = Sequential()\r\n",
        "\r\n",
        "  model.add(Conv2D(64, kernel_size=3, padding='same', activation='relu', input_shape=(150, 150, 3)))\r\n",
        "  model.add(Conv2D(64, kernel_size=3, padding='same', activation='relu'))\r\n",
        "  model.add(MaxPooling2D(pool_size=2, strides=2))\r\n",
        "  model.add(Dropout(0.25))\r\n",
        "\r\n",
        "  model.add(Conv2D(128, kernel_size=3, padding='same', activation='relu'))\r\n",
        "  model.add(Conv2D(128, kernel_size=3, padding='same', activation='relu'))\r\n",
        "  model.add(MaxPooling2D(pool_size=2, strides=2))\r\n",
        "  model.add(Dropout(0.25))\r\n",
        "\r\n",
        "  model.add(Conv2D(256, kernel_size=3, padding='same', activation='relu'))\r\n",
        "  model.add(Conv2D(256, kernel_size=3, padding='same', activation='relu'))\r\n",
        "  model.add(Conv2D(256, kernel_size=3, padding='same', activation='relu'))\r\n",
        "  model.add(MaxPooling2D(pool_size=2, strides=2))\r\n",
        "  model.add(Dropout(0.25))\r\n",
        "\r\n",
        "  model.add(Conv2D(512, kernel_size=3, padding='same', activation='relu'))\r\n",
        "  model.add(Conv2D(512, kernel_size=3, padding='same', activation='relu'))\r\n",
        "  model.add(Conv2D(512, kernel_size=3, padding='same', activation='relu'))\r\n",
        "  model.add(MaxPooling2D(pool_size=2, strides=2))\r\n",
        "  model.add(Dropout(0.25))\r\n",
        "\r\n",
        "  model.add(Conv2D(512, kernel_size=3, activation='relu'))\r\n",
        "  model.add(Conv2D(512, kernel_size=3, activation='relu'))\r\n",
        "  model.add(Conv2D(512, kernel_size=3, activation='relu'))\r\n",
        "  model.add(MaxPooling2D(pool_size=2, strides=2))\r\n",
        "  model.add(Dropout(0.25))\r\n",
        "\r\n",
        "  model.add(Flatten())\r\n",
        "\r\n",
        "  model.add(Dense(4096, activation='relu'))\r\n",
        "  model.add(Dense(4096, activation='relu'))\r\n",
        "  model.add(Dense(4096, activation='relu'))\r\n",
        "\r\n",
        "  # the data we are using has 6 classes\r\n",
        "  model.add(Dense(6, activation='softmax'))\r\n",
        "\r\n",
        "  return model"
      ],
      "execution_count": null,
      "outputs": []
    },
    {
      "cell_type": "code",
      "metadata": {
        "id": "DZDx_DZKiceo"
      },
      "source": [
        "import os\r\n",
        "import cv2\r\n",
        "import numpy as np\r\n",
        "from imutils import paths\r\n",
        "from sklearn.preprocessing import LabelBinarizer\r\n",
        "from tqdm import tqdm\r\n",
        "\r\n",
        "# A function to load data from a given directory\r\n",
        "def load_data(data_dir):\r\n",
        "  data = []\r\n",
        "  labels = []\r\n",
        "  class_dirs = os.listdir(data_dir)\r\n",
        "  \r\n",
        "  for direc in class_dirs:\r\n",
        "    class_dir = os.path.join(data_dir, direc)\r\n",
        "    for imagepath in tqdm(list(paths.list_images(class_dir))):\r\n",
        "      image = cv2.imread(imagepath)\r\n",
        "      image = cv2.resize(image, (150, 150))  # incase images not of same size\r\n",
        "      data.append(image)\r\n",
        "      labels.append(direc)\r\n",
        "  # normalizing and converting to numpy array format\r\n",
        "  data = np.array(data, dtype='float')/255.0\r\n",
        "  labels = np.array(labels)\r\n",
        "  return data, labels\r\n",
        "\r\n",
        "train_dir = \"/content/drive/MyDrive/Colab Notebooks/image_classification/seg_train/\"\r\n",
        "validate_dir = \"/content/drive/MyDrive/Colab Notebooks/image_classification/seg_test/\"\r\n",
        "predict_dir = \"/content/drive/MyDrive/Colab Notebooks/image_classification/seg_pred/\"\r\n",
        "\r\n",
        "\r\n",
        "print('loading training images')\r\n",
        "X_train, y_train = load_data(train_dir)\r\n",
        "print('loading test images')\r\n",
        "X_validate, y_validate = load_data(validate_dir)\r\n",
        "print('loading prediction images')\r\n",
        "X_predict, y_predict = load_data(predict_dir)"
      ],
      "execution_count": null,
      "outputs": []
    },
    {
      "cell_type": "code",
      "metadata": {
        "id": "0GH2eDKLWpO_"
      },
      "source": [
        "vgg16 = creat_model()\r\n",
        "vgg16.summary()"
      ],
      "execution_count": null,
      "outputs": []
    },
    {
      "cell_type": "code",
      "metadata": {
        "id": "nfo6eEg4WaLf"
      },
      "source": [
        "from keras.optimizers import SGD\r\n",
        "sgd = SGD(lr=0.01, decay=1e-7, momentum=.9)\r\n",
        "vgg16.compile(loss='categorical_crossentropy', optimizer=sgd, metrics=['accuracy'])"
      ],
      "execution_count": null,
      "outputs": []
    },
    {
      "cell_type": "code",
      "metadata": {
        "id": "qIEktNWnWh8p"
      },
      "source": [
        "from keras.preprocessing.image import ImageDataGenerator\r\n",
        "datagen_train = ImageDataGenerator(rescale=1. / 255,\r\n",
        "                                   rotation_range=40,\r\n",
        "                                   width_shift_range=0.2,\r\n",
        "                                   height_shift_range=0.2,\r\n",
        "                                   shear_range=0.2,\r\n",
        "                                   zoom_range=0.2,\r\n",
        "                                   horizontal_flip=True,\r\n",
        "                                   fill_mode='nearest')\r\n",
        "datagen_validate = ImageDataGenerator(rescale=1. / 255)"
      ],
      "execution_count": null,
      "outputs": []
    },
    {
      "cell_type": "code",
      "metadata": {
        "colab": {
          "base_uri": "https://localhost:8080/"
        },
        "id": "AB3udBDyjQBd",
        "outputId": "a9fcdf17-f155-42f3-eff1-c856198520a9"
      },
      "source": [
        "train_dir = \"/content/drive/MyDrive/Colab Notebooks/image_classification/seg_train/\"\r\n",
        "validate_dir = \"/content/drive/MyDrive/Colab Notebooks/image_classification/seg_test/\"\r\n",
        "\r\n",
        "train_it = datagen_train.flow_from_directory(train_dir, target_size=(150,150),class_mode=\"categorical\", batch_size=64,shuffle=True,)\r\n",
        "validate_it = datagen_validate.flow_from_directory(validate_dir, target_size=(150,150),class_mode=\"categorical\", batch_size=64,shuffle=True,)\r\n",
        "\r\n",
        "\r\n",
        "H = vgg16.fit(train_it,batch_size=64,epochs=50,validation_data=validate_it)\r\n"
      ],
      "execution_count": null,
      "outputs": [
        {
          "output_type": "stream",
          "text": [
            "Model: \"sequential_1\"\n",
            "_________________________________________________________________\n",
            "Layer (type)                 Output Shape              Param #   \n",
            "=================================================================\n",
            "conv2d_13 (Conv2D)           (None, 150, 150, 64)      1792      \n",
            "_________________________________________________________________\n",
            "conv2d_14 (Conv2D)           (None, 150, 150, 64)      36928     \n",
            "_________________________________________________________________\n",
            "max_pooling2d_5 (MaxPooling2 (None, 75, 75, 64)        0         \n",
            "_________________________________________________________________\n",
            "dropout_5 (Dropout)          (None, 75, 75, 64)        0         \n",
            "_________________________________________________________________\n",
            "conv2d_15 (Conv2D)           (None, 75, 75, 128)       73856     \n",
            "_________________________________________________________________\n",
            "conv2d_16 (Conv2D)           (None, 75, 75, 128)       147584    \n",
            "_________________________________________________________________\n",
            "max_pooling2d_6 (MaxPooling2 (None, 37, 37, 128)       0         \n",
            "_________________________________________________________________\n",
            "dropout_6 (Dropout)          (None, 37, 37, 128)       0         \n",
            "_________________________________________________________________\n",
            "conv2d_17 (Conv2D)           (None, 37, 37, 256)       295168    \n",
            "_________________________________________________________________\n",
            "conv2d_18 (Conv2D)           (None, 37, 37, 256)       590080    \n",
            "_________________________________________________________________\n",
            "conv2d_19 (Conv2D)           (None, 37, 37, 256)       590080    \n",
            "_________________________________________________________________\n",
            "max_pooling2d_7 (MaxPooling2 (None, 18, 18, 256)       0         \n",
            "_________________________________________________________________\n",
            "dropout_7 (Dropout)          (None, 18, 18, 256)       0         \n",
            "_________________________________________________________________\n",
            "conv2d_20 (Conv2D)           (None, 18, 18, 512)       1180160   \n",
            "_________________________________________________________________\n",
            "conv2d_21 (Conv2D)           (None, 18, 18, 512)       2359808   \n",
            "_________________________________________________________________\n",
            "conv2d_22 (Conv2D)           (None, 18, 18, 512)       2359808   \n",
            "_________________________________________________________________\n",
            "max_pooling2d_8 (MaxPooling2 (None, 9, 9, 512)         0         \n",
            "_________________________________________________________________\n",
            "dropout_8 (Dropout)          (None, 9, 9, 512)         0         \n",
            "_________________________________________________________________\n",
            "conv2d_23 (Conv2D)           (None, 7, 7, 512)         2359808   \n",
            "_________________________________________________________________\n",
            "conv2d_24 (Conv2D)           (None, 5, 5, 512)         2359808   \n",
            "_________________________________________________________________\n",
            "conv2d_25 (Conv2D)           (None, 3, 3, 512)         2359808   \n",
            "_________________________________________________________________\n",
            "max_pooling2d_9 (MaxPooling2 (None, 1, 1, 512)         0         \n",
            "_________________________________________________________________\n",
            "dropout_9 (Dropout)          (None, 1, 1, 512)         0         \n",
            "_________________________________________________________________\n",
            "flatten_1 (Flatten)          (None, 512)               0         \n",
            "_________________________________________________________________\n",
            "dense_4 (Dense)              (None, 4096)              2101248   \n",
            "_________________________________________________________________\n",
            "dense_5 (Dense)              (None, 4096)              16781312  \n",
            "_________________________________________________________________\n",
            "dense_6 (Dense)              (None, 4096)              16781312  \n",
            "_________________________________________________________________\n",
            "dense_7 (Dense)              (None, 6)                 24582     \n",
            "=================================================================\n",
            "Total params: 50,403,142\n",
            "Trainable params: 50,403,142\n",
            "Non-trainable params: 0\n",
            "_________________________________________________________________\n",
            "Found 14034 images belonging to 6 classes.\n",
            "Found 3000 images belonging to 6 classes.\n",
            "Epoch 1/50\n",
            "220/220 [==============================] - 126s 567ms/step - loss: 1.7733 - accuracy: 0.1954 - val_loss: 1.5789 - val_accuracy: 0.3577\n",
            "Epoch 2/50\n",
            "220/220 [==============================] - 125s 569ms/step - loss: 1.4967 - accuracy: 0.3927 - val_loss: 1.3445 - val_accuracy: 0.4683\n",
            "Epoch 3/50\n",
            "220/220 [==============================] - 124s 563ms/step - loss: 1.2894 - accuracy: 0.4707 - val_loss: 1.0253 - val_accuracy: 0.5763\n",
            "Epoch 4/50\n",
            "220/220 [==============================] - 125s 566ms/step - loss: 1.1966 - accuracy: 0.5105 - val_loss: 0.9819 - val_accuracy: 0.5920\n",
            "Epoch 5/50\n",
            "220/220 [==============================] - 124s 563ms/step - loss: 1.1176 - accuracy: 0.5485 - val_loss: 0.9646 - val_accuracy: 0.6177\n",
            "Epoch 6/50\n",
            "220/220 [==============================] - 124s 562ms/step - loss: 1.0688 - accuracy: 0.5671 - val_loss: 0.9084 - val_accuracy: 0.6550\n",
            "Epoch 7/50\n",
            "220/220 [==============================] - 124s 563ms/step - loss: 1.0121 - accuracy: 0.6005 - val_loss: 0.9706 - val_accuracy: 0.6197\n",
            "Epoch 8/50\n",
            "220/220 [==============================] - 124s 562ms/step - loss: 1.0122 - accuracy: 0.6041 - val_loss: 0.9177 - val_accuracy: 0.6620\n",
            "Epoch 9/50\n",
            "220/220 [==============================] - 124s 563ms/step - loss: 0.9426 - accuracy: 0.6270 - val_loss: 0.8089 - val_accuracy: 0.6843\n",
            "Epoch 10/50\n",
            "220/220 [==============================] - 124s 561ms/step - loss: 0.9315 - accuracy: 0.6381 - val_loss: 0.8103 - val_accuracy: 0.6913\n",
            "Epoch 11/50\n",
            "220/220 [==============================] - 123s 560ms/step - loss: 0.8715 - accuracy: 0.6642 - val_loss: 0.7563 - val_accuracy: 0.7137\n",
            "Epoch 12/50\n",
            "220/220 [==============================] - 124s 561ms/step - loss: 0.8800 - accuracy: 0.6590 - val_loss: 0.7064 - val_accuracy: 0.7300\n",
            "Epoch 13/50\n",
            "220/220 [==============================] - 124s 560ms/step - loss: 0.8573 - accuracy: 0.6681 - val_loss: 0.7061 - val_accuracy: 0.7493\n",
            "Epoch 14/50\n",
            "220/220 [==============================] - 123s 559ms/step - loss: 0.8133 - accuracy: 0.6964 - val_loss: 0.6225 - val_accuracy: 0.7723\n",
            "Epoch 15/50\n",
            "220/220 [==============================] - 124s 562ms/step - loss: 0.7830 - accuracy: 0.7108 - val_loss: 0.6181 - val_accuracy: 0.7753\n",
            "Epoch 16/50\n",
            "220/220 [==============================] - 124s 563ms/step - loss: 0.7774 - accuracy: 0.7121 - val_loss: 0.5731 - val_accuracy: 0.7993\n",
            "Epoch 17/50\n",
            "220/220 [==============================] - 124s 564ms/step - loss: 0.7225 - accuracy: 0.7328 - val_loss: 0.7051 - val_accuracy: 0.7333\n",
            "Epoch 18/50\n",
            "220/220 [==============================] - 124s 562ms/step - loss: 0.7217 - accuracy: 0.7363 - val_loss: 0.5590 - val_accuracy: 0.8047\n",
            "Epoch 19/50\n",
            "220/220 [==============================] - 124s 562ms/step - loss: 0.6820 - accuracy: 0.7574 - val_loss: 0.5821 - val_accuracy: 0.8037\n",
            "Epoch 20/50\n",
            "220/220 [==============================] - 124s 562ms/step - loss: 0.6692 - accuracy: 0.7575 - val_loss: 0.5883 - val_accuracy: 0.7890\n",
            "Epoch 21/50\n",
            "220/220 [==============================] - 124s 563ms/step - loss: 0.6831 - accuracy: 0.7516 - val_loss: 0.5231 - val_accuracy: 0.8133\n",
            "Epoch 22/50\n",
            "220/220 [==============================] - 125s 566ms/step - loss: 0.6390 - accuracy: 0.7685 - val_loss: 0.5972 - val_accuracy: 0.7840\n",
            "Epoch 23/50\n",
            "220/220 [==============================] - 124s 563ms/step - loss: 0.6380 - accuracy: 0.7694 - val_loss: 0.4840 - val_accuracy: 0.8267\n",
            "Epoch 24/50\n",
            "220/220 [==============================] - 124s 565ms/step - loss: 0.5939 - accuracy: 0.7866 - val_loss: 0.4756 - val_accuracy: 0.8333\n",
            "Epoch 25/50\n",
            "220/220 [==============================] - 125s 565ms/step - loss: 0.5846 - accuracy: 0.7932 - val_loss: 0.4912 - val_accuracy: 0.8220\n",
            "Epoch 26/50\n",
            "220/220 [==============================] - 124s 564ms/step - loss: 0.6023 - accuracy: 0.7873 - val_loss: 0.4990 - val_accuracy: 0.8280\n",
            "Epoch 27/50\n",
            "220/220 [==============================] - 125s 568ms/step - loss: 0.5738 - accuracy: 0.7946 - val_loss: 0.5487 - val_accuracy: 0.8073\n",
            "Epoch 28/50\n",
            "220/220 [==============================] - 124s 565ms/step - loss: 0.5625 - accuracy: 0.7987 - val_loss: 0.4939 - val_accuracy: 0.8183\n",
            "Epoch 29/50\n",
            "220/220 [==============================] - 124s 564ms/step - loss: 0.5631 - accuracy: 0.7952 - val_loss: 0.5187 - val_accuracy: 0.8170\n",
            "Epoch 30/50\n",
            "220/220 [==============================] - 124s 563ms/step - loss: 0.5444 - accuracy: 0.8062 - val_loss: 0.4379 - val_accuracy: 0.8500\n",
            "Epoch 31/50\n",
            "220/220 [==============================] - 124s 563ms/step - loss: 0.5438 - accuracy: 0.8106 - val_loss: 0.4892 - val_accuracy: 0.8183\n",
            "Epoch 32/50\n",
            "220/220 [==============================] - 124s 563ms/step - loss: 0.5165 - accuracy: 0.8138 - val_loss: 0.4194 - val_accuracy: 0.8537\n",
            "Epoch 33/50\n",
            "220/220 [==============================] - 124s 563ms/step - loss: 0.5102 - accuracy: 0.8219 - val_loss: 0.4237 - val_accuracy: 0.8467\n",
            "Epoch 34/50\n",
            "220/220 [==============================] - 123s 559ms/step - loss: 0.5071 - accuracy: 0.8173 - val_loss: 0.4482 - val_accuracy: 0.8383\n",
            "Epoch 35/50\n",
            "220/220 [==============================] - 125s 568ms/step - loss: 0.4988 - accuracy: 0.8254 - val_loss: 0.4255 - val_accuracy: 0.8503\n",
            "Epoch 36/50\n",
            "220/220 [==============================] - 124s 563ms/step - loss: 0.4723 - accuracy: 0.8392 - val_loss: 0.3892 - val_accuracy: 0.8607\n",
            "Epoch 37/50\n",
            "220/220 [==============================] - 124s 562ms/step - loss: 0.4811 - accuracy: 0.8289 - val_loss: 0.5159 - val_accuracy: 0.8257\n",
            "Epoch 38/50\n",
            "220/220 [==============================] - 124s 561ms/step - loss: 0.4835 - accuracy: 0.8372 - val_loss: 0.4147 - val_accuracy: 0.8493\n",
            "Epoch 39/50\n",
            "220/220 [==============================] - 123s 560ms/step - loss: 0.4538 - accuracy: 0.8407 - val_loss: 0.4222 - val_accuracy: 0.8547\n",
            "Epoch 40/50\n",
            "220/220 [==============================] - 124s 563ms/step - loss: 0.4840 - accuracy: 0.8225 - val_loss: 0.3988 - val_accuracy: 0.8573\n",
            "Epoch 41/50\n",
            "220/220 [==============================] - 124s 563ms/step - loss: 0.4698 - accuracy: 0.8310 - val_loss: 0.4010 - val_accuracy: 0.8583\n",
            "Epoch 42/50\n",
            "220/220 [==============================] - 124s 563ms/step - loss: 0.4411 - accuracy: 0.8437 - val_loss: 0.3957 - val_accuracy: 0.8543\n",
            "Epoch 43/50\n",
            "220/220 [==============================] - 124s 561ms/step - loss: 0.4627 - accuracy: 0.8352 - val_loss: 0.4369 - val_accuracy: 0.8453\n",
            "Epoch 44/50\n",
            "220/220 [==============================] - 124s 562ms/step - loss: 0.4399 - accuracy: 0.8461 - val_loss: 0.4118 - val_accuracy: 0.8377\n",
            "Epoch 45/50\n",
            "220/220 [==============================] - 124s 562ms/step - loss: 0.4377 - accuracy: 0.8468 - val_loss: 0.4417 - val_accuracy: 0.8470\n",
            "Epoch 46/50\n",
            "220/220 [==============================] - 124s 563ms/step - loss: 0.4230 - accuracy: 0.8516 - val_loss: 0.3886 - val_accuracy: 0.8600\n",
            "Epoch 47/50\n",
            "220/220 [==============================] - 124s 563ms/step - loss: 0.4215 - accuracy: 0.8473 - val_loss: 0.3904 - val_accuracy: 0.8610\n",
            "Epoch 48/50\n",
            "220/220 [==============================] - 125s 565ms/step - loss: 0.4111 - accuracy: 0.8528 - val_loss: 0.3442 - val_accuracy: 0.8797\n",
            "Epoch 49/50\n",
            "220/220 [==============================] - 125s 566ms/step - loss: 0.4144 - accuracy: 0.8509 - val_loss: 0.4152 - val_accuracy: 0.8570\n",
            "Epoch 50/50\n",
            "220/220 [==============================] - 125s 565ms/step - loss: 0.4169 - accuracy: 0.8536 - val_loss: 0.3616 - val_accuracy: 0.8653\n"
          ],
          "name": "stdout"
        }
      ]
    },
    {
      "cell_type": "code",
      "metadata": {
        "id": "SWRQbLsOIHw9"
      },
      "source": [
        "vgg16.save_weights('vgg16_trained_weights_with_data_augmentation.h5')"
      ],
      "execution_count": null,
      "outputs": []
    },
    {
      "cell_type": "code",
      "metadata": {
        "colab": {
          "base_uri": "https://localhost:8080/",
          "height": 299
        },
        "id": "knA2nItB_Jr6",
        "outputId": "83f73f9f-9950-4902-e3b9-c9e88bcfd791"
      },
      "source": [
        "'''LEARNING CURVE'''\r\n",
        "\r\n",
        "import matplotlib.pyplot as plt\r\n",
        "import numpy as np\r\n",
        "\r\n",
        "N = np.arange(0, 50)\r\n",
        "plt.style.use('ggplot')\r\n",
        "plt.figure()\r\n",
        "plt.plot(N, H.history['loss'], label='training_loss')\r\n",
        "plt.plot(N, H.history['val_loss'], label='validation_loss')\r\n",
        "plt.plot(N, H.history['accuracy'], label='training_accuracy')\r\n",
        "plt.plot(N, H.history['val_accuracy'], label='validation_accuracy')\r\n",
        "plt.title('Training/Validation loss and accuracy')\r\n",
        "plt.xlabel('Epoch #')\r\n",
        "plt.ylabel('Loss/Accuracy')\r\n",
        "plt.legend()\r\n",
        "plt.show()"
      ],
      "execution_count": null,
      "outputs": [
        {
          "output_type": "display_data",
          "data": {
            "image/png": "[encoded data removed]",
            "text/plain": [
              "<Figure size 432x288 with 1 Axes>"
            ]
          },
          "metadata": {
            "tags": []
          }
        }
      ]
    },
    {
      "cell_type": "code",
      "metadata": {
        "id": "e4ZIZCBrP9_7",
        "colab": {
          "base_uri": "https://localhost:8080/"
        },
        "outputId": "30029e48-0f22-44d1-81cd-433dec8d70f7"
      },
      "source": [
        "predict_dir = \"/content/drive/MyDrive/Colab Notebooks/image_classification/seg_pred/\"\r\n",
        "\r\n",
        "from keras.preprocessing.image import ImageDataGenerator\r\n",
        "datagen = ImageDataGenerator(rescale=1. / 255)\r\n",
        "predict_it = datagen.flow_from_directory(predict_dir, target_size=(150,150),class_mode=\"categorical\", batch_size=1,shuffle=False,)\r\n",
        "\r\n",
        "score = vgg16.evaluate_generator(predict_it)\r\n",
        "\r\n",
        "filenames = predict_it.filenames\r\n",
        "nb_samples = len(filenames)\r\n",
        "Y_pred = vgg16.predict_generator(predict_it,steps = nb_samples)\r\n",
        "y_pred = np.argmax(Y_pred, axis=1)\r\n",
        "from sklearn.metrics import classification_report, confusion_matrix\r\n",
        "aa=confusion_matrix(predict_it.classes, y_pred)"
      ],
      "execution_count": null,
      "outputs": [
        {
          "output_type": "stream",
          "text": [
            "Found 7301 images belonging to 6 classes.\n"
          ],
          "name": "stdout"
        },
        {
          "output_type": "stream",
          "text": [
            "/usr/local/lib/python3.6/dist-packages/tensorflow/python/keras/engine/training.py:1877: UserWarning: `Model.evaluate_generator` is deprecated and will be removed in a future version. Please use `Model.evaluate`, which supports generators.\n",
            "  warnings.warn('`Model.evaluate_generator` is deprecated and '\n",
            "/usr/local/lib/python3.6/dist-packages/tensorflow/python/keras/engine/training.py:1905: UserWarning: `Model.predict_generator` is deprecated and will be removed in a future version. Please use `Model.predict`, which supports generators.\n",
            "  warnings.warn('`Model.predict_generator` is deprecated and '\n"
          ],
          "name": "stderr"
        }
      ]
    },
    {
      "cell_type": "code",
      "metadata": {
        "colab": {
          "base_uri": "https://localhost:8080/"
        },
        "id": "qIFI0EaLUZ81",
        "outputId": "46169da5-aace-4bb6-a8e5-8dc19928c0e4"
      },
      "source": [
        "print('Test Loss = ', score[0])\r\n",
        "print('Test Accuracy = ', score[1])\r\n",
        "print('Confusion Matrix = \\n',aa)"
      ],
      "execution_count": null,
      "outputs": [
        {
          "output_type": "stream",
          "text": [
            "Test Loss =  0.42985329031944275\n",
            "Test Accuracy =  0.8622106313705444\n",
            "Confusion Matrix = \n",
            " [[1034   10    4   19    4   73]\n",
            " [   8 1141    0    5    2   10]\n",
            " [  18    8 1086  170   42    6]\n",
            " [   7   10  118 1085   74    3]\n",
            " [  37    7   56  109  911    8]\n",
            " [ 165   17    5    6    5 1038]]\n"
          ],
          "name": "stdout"
        }
      ]
    }
  ]
}