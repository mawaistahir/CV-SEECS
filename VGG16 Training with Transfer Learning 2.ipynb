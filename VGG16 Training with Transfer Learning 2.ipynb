{
  "nbformat": 4,
  "nbformat_minor": 0,
  "metadata": {
    "colab": {
      "name": "CV_Assignment3_Transfer_Learning_2.ipynb",
      "provenance": [],
      "collapsed_sections": []
    },
    "kernelspec": {
      "name": "python3",
      "display_name": "Python 3"
    },
    "accelerator": "GPU"
  },
  "cells": [
    {
      "cell_type": "code",
      "metadata": {
        "colab": {
          "base_uri": "https://localhost:8080/"
        },
        "id": "ayCRNHKMIGU4",
        "outputId": "53daaba5-a31f-4725-c4a6-4a75f3794528"
      },
      "source": [
        "GOOGLE_COLAB = True\r\n",
        "path = \"\"\r\n",
        "if GOOGLE_COLAB:\r\n",
        "    from google.colab import drive, files\r\n",
        "    drive.mount('/content/drive/')\r\n"
      ],
      "execution_count": null,
      "outputs": [
        {
          "output_type": "stream",
          "text": [
            "Drive already mounted at /content/drive/; to attempt to forcibly remount, call drive.mount(\"/content/drive/\", force_remount=True).\n"
          ],
          "name": "stdout"
        }
      ]
    },
    {
      "cell_type": "code",
      "metadata": {
        "colab": {
          "base_uri": "https://localhost:8080/"
        },
        "id": "YjdyZmsRSMkw",
        "outputId": "3fb05c13-462f-456e-a240-c708c2e43259"
      },
      "source": [
        "%cd \"/content/drive/MyDrive/Colab Notebooks/image_classification\""
      ],
      "execution_count": null,
      "outputs": [
        {
          "output_type": "stream",
          "text": [
            "/content/drive/MyDrive/Colab Notebooks/image_classification\n"
          ],
          "name": "stdout"
        }
      ]
    },
    {
      "cell_type": "code",
      "metadata": {
        "id": "fRlYV4twSmxz"
      },
      "source": [
        "#!pip install unrar\r\n",
        "!unrar x image_classification.rar"
      ],
      "execution_count": null,
      "outputs": []
    },
    {
      "cell_type": "code",
      "metadata": {
        "colab": {
          "base_uri": "https://localhost:8080/"
        },
        "id": "r-tpAlp6aLh4",
        "outputId": "cf30aa7e-a64b-4d2f-e135-5962b176daa4"
      },
      "source": [
        "import tensorflow as tf\r\n",
        "from tensorflow.python.client import device_lib\r\n",
        "\r\n",
        "tf.test.gpu_device_name()\r\n",
        "device_lib.list_local_devices()\r\n",
        "!cat /proc/meminfo\r\n",
        "!!cat /proc/cpuinfo\r\n",
        "!nvidia-smi\r\n",
        "!ln -sf /opt/bin/nvidia-smi /usr/bin/nvidia-smi\r\n",
        "!pip install gputil\r\n",
        "!pip install psutil\r\n",
        "!pip install humanize\r\n",
        "import psutil\r\n",
        "import humanize\r\n",
        "import os\r\n",
        "import GPUtil as GPU\r\n",
        "GPUs = GPU.getGPUs()\r\n",
        "# XXX: only one GPU on Colab and isn’t guaranteed\r\n",
        "gpu = GPUs[0]\r\n",
        "def printm():\r\n",
        " process = psutil.Process(os.getpid())\r\n",
        " print(\"Gen RAM Free: \" + humanize.naturalsize( psutil.virtual_memory().available ))\r\n",
        " print(\"GPU RAM Free: {0:.0f}MB | Used: {1:.0f}MB | Util {2:3.0f}% | Total {3:.0f}MB\".format(gpu.memoryFree, gpu.memoryUsed, gpu.memoryUtil*100, gpu.memoryTotal))\r\n",
        "printm()\r\n"
      ],
      "execution_count": null,
      "outputs": [
        {
          "output_type": "stream",
          "text": [
            "MemTotal:       13333596 kB\n",
            "MemFree:         7949400 kB\n",
            "MemAvailable:   11830156 kB\n",
            "Buffers:           92528 kB\n",
            "Cached:          3804880 kB\n",
            "SwapCached:            0 kB\n",
            "Active:          1587712 kB\n",
            "Inactive:        3378456 kB\n",
            "Active(anon):     911216 kB\n",
            "Inactive(anon):     8540 kB\n",
            "Active(file):     676496 kB\n",
            "Inactive(file):  3369916 kB\n",
            "Unevictable:           0 kB\n",
            "Mlocked:               0 kB\n",
            "SwapTotal:             0 kB\n",
            "SwapFree:              0 kB\n",
            "Dirty:               404 kB\n",
            "Writeback:             0 kB\n",
            "AnonPages:       1068824 kB\n",
            "Mapped:           582564 kB\n",
            "Shmem:              9156 kB\n",
            "Slab:             197232 kB\n",
            "SReclaimable:     150288 kB\n",
            "SUnreclaim:        46944 kB\n",
            "KernelStack:        4752 kB\n",
            "PageTables:         9048 kB\n",
            "NFS_Unstable:          0 kB\n",
            "Bounce:                0 kB\n",
            "WritebackTmp:          0 kB\n",
            "CommitLimit:     6666796 kB\n",
            "Committed_AS:    3800388 kB\n",
            "VmallocTotal:   34359738367 kB\n",
            "VmallocUsed:           0 kB\n",
            "VmallocChunk:          0 kB\n",
            "Percpu:              952 kB\n",
            "AnonHugePages:         0 kB\n",
            "ShmemHugePages:        0 kB\n",
            "ShmemPmdMapped:        0 kB\n",
            "HugePages_Total:       0\n",
            "HugePages_Free:        0\n",
            "HugePages_Rsvd:        0\n",
            "HugePages_Surp:        0\n",
            "Hugepagesize:       2048 kB\n",
            "Hugetlb:               0 kB\n",
            "DirectMap4k:      214248 kB\n",
            "DirectMap2M:     7124992 kB\n",
            "DirectMap1G:     8388608 kB\n",
            "Sun Jan  3 11:04:16 2021       \n",
            "+-----------------------------------------------------------------------------+\n",
            "| NVIDIA-SMI 418.67       Driver Version: 418.67       CUDA Version: 10.1     |\n",
            "|-------------------------------+----------------------+----------------------+\n",
            "| GPU  Name        Persistence-M| Bus-Id        Disp.A | Volatile Uncorr. ECC |\n",
            "| Fan  Temp  Perf  Pwr:Usage/Cap|         Memory-Usage | GPU-Util  Compute M. |\n",
            "|===============================+======================+======================|\n",
            "|   0  Tesla T4            Off  | 00000000:00:04.0 Off |                    0 |\n",
            "| N/A   45C    P0    27W /  70W |    227MiB / 15079MiB |      2%      Default |\n",
            "+-------------------------------+----------------------+----------------------+\n",
            "                                                                               \n",
            "+-----------------------------------------------------------------------------+\n",
            "| Processes:                                                       GPU Memory |\n",
            "|  GPU       PID   Type   Process name                             Usage      |\n",
            "|=============================================================================|\n",
            "+-----------------------------------------------------------------------------+\n",
            "Requirement already satisfied: gputil in /usr/local/lib/python3.6/dist-packages (1.4.0)\n",
            "Requirement already satisfied: psutil in /usr/local/lib/python3.6/dist-packages (5.4.8)\n",
            "Requirement already satisfied: humanize in /usr/local/lib/python3.6/dist-packages (0.5.1)\n",
            "Gen RAM Free: 12.1 GB\n",
            "GPU RAM Free: 14852MB | Used: 227MB | Util   2% | Total 15079MB\n"
          ],
          "name": "stdout"
        }
      ]
    },
    {
      "cell_type": "code",
      "metadata": {
        "id": "AmwohBjmdSLy"
      },
      "source": [
        "\r\n",
        "def creat_model():\r\n",
        "  import keras\r\n",
        "  from keras.layers import Conv2D, Dense, MaxPooling2D, Flatten, Dropout\r\n",
        "  from keras.models import Sequential\r\n",
        "\r\n",
        "  model = Sequential()\r\n",
        "\r\n",
        "  model.add(Conv2D(64, kernel_size=3, padding='same', activation='relu', input_shape=(150, 150, 3)))\r\n",
        "  model.add(Conv2D(64, kernel_size=3, padding='same', activation='relu'))\r\n",
        "  model.add(MaxPooling2D(pool_size=2, strides=2))\r\n",
        "  model.add(Dropout(0.25))\r\n",
        "\r\n",
        "  model.add(Conv2D(128, kernel_size=3, padding='same', activation='relu'))\r\n",
        "  model.add(Conv2D(128, kernel_size=3, padding='same', activation='relu'))\r\n",
        "  model.add(MaxPooling2D(pool_size=2, strides=2))\r\n",
        "  model.add(Dropout(0.25))\r\n",
        "\r\n",
        "  model.add(Conv2D(256, kernel_size=3, padding='same', activation='relu'))\r\n",
        "  model.add(Conv2D(256, kernel_size=3, padding='same', activation='relu'))\r\n",
        "  model.add(Conv2D(256, kernel_size=3, padding='same', activation='relu'))\r\n",
        "  model.add(MaxPooling2D(pool_size=2, strides=2))\r\n",
        "  model.add(Dropout(0.25))\r\n",
        "\r\n",
        "  model.add(Conv2D(512, kernel_size=3, padding='same', activation='relu'))\r\n",
        "  model.add(Conv2D(512, kernel_size=3, padding='same', activation='relu'))\r\n",
        "  model.add(Conv2D(512, kernel_size=3, padding='same', activation='relu'))\r\n",
        "  model.add(MaxPooling2D(pool_size=2, strides=2))\r\n",
        "  model.add(Dropout(0.25))\r\n",
        "\r\n",
        "  model.add(Conv2D(512, kernel_size=3, activation='relu'))\r\n",
        "  model.add(Conv2D(512, kernel_size=3, activation='relu'))\r\n",
        "  model.add(Conv2D(512, kernel_size=3, activation='relu'))\r\n",
        "  model.add(MaxPooling2D(pool_size=2, strides=2))\r\n",
        "  model.add(Dropout(0.25))\r\n",
        "\r\n",
        "  model.add(Flatten())\r\n",
        "\r\n",
        "  model.add(Dense(4096, activation='relu'))\r\n",
        "  model.add(Dense(4096, activation='relu'))\r\n",
        "  model.add(Dense(4096, activation='relu'))\r\n",
        "\r\n",
        "  # the data we are using has 6 classes\r\n",
        "  model.add(Dense(6, activation='softmax'))\r\n",
        "\r\n",
        "  return model"
      ],
      "execution_count": null,
      "outputs": []
    },
    {
      "cell_type": "code",
      "metadata": {
        "colab": {
          "base_uri": "https://localhost:8080/"
        },
        "id": "DZDx_DZKiceo",
        "outputId": "a282ba1c-7526-447d-e602-5b6d69c71acc"
      },
      "source": [
        "import os\r\n",
        "import cv2\r\n",
        "import numpy as np\r\n",
        "from imutils import paths\r\n",
        "from sklearn.preprocessing import LabelBinarizer\r\n",
        "from tqdm import tqdm\r\n",
        "\r\n",
        "# A function to load data from a given directory\r\n",
        "def load_data(data_dir):\r\n",
        "  data = []\r\n",
        "  labels = []\r\n",
        "  class_dirs = os.listdir(data_dir)\r\n",
        "  \r\n",
        "  for direc in class_dirs:\r\n",
        "    class_dir = os.path.join(data_dir, direc)\r\n",
        "    for imagepath in tqdm(list(paths.list_images(class_dir))):\r\n",
        "      image = cv2.imread(imagepath)\r\n",
        "      image = cv2.resize(image, (150, 150))  # incase images not of same size\r\n",
        "      data.append(image)\r\n",
        "      labels.append(direc)\r\n",
        "  # normalizing and converting to numpy array format\r\n",
        "  data = np.array(data, dtype='float')/255.0\r\n",
        "  labels = np.array(labels)\r\n",
        "  return data, labels\r\n",
        "\r\n",
        "train_dir = \"/content/drive/MyDrive/Colab Notebooks/image_classification/seg_train/\"\r\n",
        "validate_dir = \"/content/drive/MyDrive/Colab Notebooks/image_classification/seg_test/\"\r\n",
        "predict_dir = \"/content/drive/MyDrive/Colab Notebooks/image_classification/seg_pred/\"\r\n",
        "\r\n",
        "\r\n",
        "print('loading training images')\r\n",
        "X_train, y_train = load_data(train_dir)\r\n",
        "print('loading test images')\r\n",
        "X_validate, y_validate = load_data(validate_dir)\r\n",
        "print('loading prediction images')\r\n",
        "X_predict, y_predict = load_data(predict_dir)"
      ],
      "execution_count": null,
      "outputs": [
        {
          "output_type": "stream",
          "text": [
            "  2%|▏         | 35/2191 [00:00<00:06, 344.10it/s]"
          ],
          "name": "stderr"
        },
        {
          "output_type": "stream",
          "text": [
            "loading prediction images\n"
          ],
          "name": "stdout"
        },
        {
          "output_type": "stream",
          "text": [
            "100%|██████████| 2191/2191 [09:42<00:00,  3.76it/s]\n",
            "100%|██████████| 2271/2271 [10:33<00:00,  3.58it/s]\n",
            "100%|██████████| 2404/2404 [11:10<00:00,  3.58it/s]\n",
            "100%|██████████| 2512/2512 [11:25<00:00,  3.67it/s]\n",
            "100%|██████████| 2274/2274 [10:30<00:00,  3.61it/s]\n",
            "100%|██████████| 2382/2382 [13:34<00:00,  2.92it/s]\n",
            "  0%|          | 0/437 [00:00<?, ?it/s]"
          ],
          "name": "stderr"
        },
        {
          "output_type": "stream",
          "text": [
            "loading prediction images\n"
          ],
          "name": "stdout"
        },
        {
          "output_type": "stream",
          "text": [
            "100%|██████████| 437/437 [02:07<00:00,  3.43it/s]\n",
            "100%|██████████| 474/474 [02:20<00:00,  3.38it/s]\n",
            "100%|██████████| 553/553 [02:41<00:00,  3.43it/s]\n",
            "100%|██████████| 525/525 [02:31<00:00,  3.47it/s]\n",
            "100%|██████████| 510/510 [02:27<00:00,  3.45it/s]\n",
            "100%|██████████| 501/501 [02:28<00:00,  3.38it/s]\n"
          ],
          "name": "stderr"
        },
        {
          "output_type": "stream",
          "text": [
            "loading prediction images\n"
          ],
          "name": "stdout"
        },
        {
          "output_type": "stream",
          "text": [
            "100%|██████████| 1144/1144 [05:12<00:00,  3.66it/s]\n",
            "100%|██████████| 1166/1166 [05:22<00:00,  3.62it/s]\n",
            "100%|██████████| 1330/1330 [05:55<00:00,  3.74it/s]\n",
            "100%|██████████| 1297/1297 [06:04<00:00,  3.56it/s]\n",
            "100%|██████████| 1128/1128 [05:23<00:00,  3.49it/s]\n",
            "100%|██████████| 1236/1236 [05:55<00:00,  3.47it/s]\n"
          ],
          "name": "stderr"
        }
      ]
    },
    {
      "cell_type": "code",
      "metadata": {
        "colab": {
          "base_uri": "https://localhost:8080/"
        },
        "id": "8BQ9K_BG1jBD",
        "outputId": "8c77cebe-ac4e-4c6f-8152-fd8044920963"
      },
      "source": [
        "vgg16 = creat_model()\r\n",
        "vgg16.load_weights(\"/content/drive/MyDrive/Colab Notebooks/image_classification/vgg16_trained_weights_with_data_augmentation.h5\")\r\n",
        "vgg16.summary()"
      ],
      "execution_count": null,
      "outputs": [
        {
          "output_type": "stream",
          "text": [
            "Model: \"sequential_3\"\n",
            "_________________________________________________________________\n",
            "Layer (type)                 Output Shape              Param #   \n",
            "=================================================================\n",
            "conv2d_39 (Conv2D)           (None, 150, 150, 64)      1792      \n",
            "_________________________________________________________________\n",
            "conv2d_40 (Conv2D)           (None, 150, 150, 64)      36928     \n",
            "_________________________________________________________________\n",
            "max_pooling2d_15 (MaxPooling (None, 75, 75, 64)        0         \n",
            "_________________________________________________________________\n",
            "dropout_15 (Dropout)         (None, 75, 75, 64)        0         \n",
            "_________________________________________________________________\n",
            "conv2d_41 (Conv2D)           (None, 75, 75, 128)       73856     \n",
            "_________________________________________________________________\n",
            "conv2d_42 (Conv2D)           (None, 75, 75, 128)       147584    \n",
            "_________________________________________________________________\n",
            "max_pooling2d_16 (MaxPooling (None, 37, 37, 128)       0         \n",
            "_________________________________________________________________\n",
            "dropout_16 (Dropout)         (None, 37, 37, 128)       0         \n",
            "_________________________________________________________________\n",
            "conv2d_43 (Conv2D)           (None, 37, 37, 256)       295168    \n",
            "_________________________________________________________________\n",
            "conv2d_44 (Conv2D)           (None, 37, 37, 256)       590080    \n",
            "_________________________________________________________________\n",
            "conv2d_45 (Conv2D)           (None, 37, 37, 256)       590080    \n",
            "_________________________________________________________________\n",
            "max_pooling2d_17 (MaxPooling (None, 18, 18, 256)       0         \n",
            "_________________________________________________________________\n",
            "dropout_17 (Dropout)         (None, 18, 18, 256)       0         \n",
            "_________________________________________________________________\n",
            "conv2d_46 (Conv2D)           (None, 18, 18, 512)       1180160   \n",
            "_________________________________________________________________\n",
            "conv2d_47 (Conv2D)           (None, 18, 18, 512)       2359808   \n",
            "_________________________________________________________________\n",
            "conv2d_48 (Conv2D)           (None, 18, 18, 512)       2359808   \n",
            "_________________________________________________________________\n",
            "max_pooling2d_18 (MaxPooling (None, 9, 9, 512)         0         \n",
            "_________________________________________________________________\n",
            "dropout_18 (Dropout)         (None, 9, 9, 512)         0         \n",
            "_________________________________________________________________\n",
            "conv2d_49 (Conv2D)           (None, 7, 7, 512)         2359808   \n",
            "_________________________________________________________________\n",
            "conv2d_50 (Conv2D)           (None, 5, 5, 512)         2359808   \n",
            "_________________________________________________________________\n",
            "conv2d_51 (Conv2D)           (None, 3, 3, 512)         2359808   \n",
            "_________________________________________________________________\n",
            "max_pooling2d_19 (MaxPooling (None, 1, 1, 512)         0         \n",
            "_________________________________________________________________\n",
            "dropout_19 (Dropout)         (None, 1, 1, 512)         0         \n",
            "_________________________________________________________________\n",
            "flatten_3 (Flatten)          (None, 512)               0         \n",
            "_________________________________________________________________\n",
            "dense_12 (Dense)             (None, 4096)              2101248   \n",
            "_________________________________________________________________\n",
            "dense_13 (Dense)             (None, 4096)              16781312  \n",
            "_________________________________________________________________\n",
            "dense_14 (Dense)             (None, 4096)              16781312  \n",
            "_________________________________________________________________\n",
            "dense_15 (Dense)             (None, 6)                 24582     \n",
            "=================================================================\n",
            "Total params: 50,403,142\n",
            "Trainable params: 50,403,142\n",
            "Non-trainable params: 0\n",
            "_________________________________________________________________\n"
          ],
          "name": "stdout"
        }
      ]
    },
    {
      "cell_type": "code",
      "metadata": {
        "id": "1_ZgwlSqXqtd"
      },
      "source": [
        "from keras.optimizers import SGD\r\n",
        "sgd = SGD(lr=0.01, decay=1e-7, momentum=.9) #adaptive learning rate applied\r\n",
        "vgg16.compile(loss='categorical_crossentropy', optimizer=sgd, metrics=['accuracy'])"
      ],
      "execution_count": null,
      "outputs": []
    },
    {
      "cell_type": "code",
      "metadata": {
        "id": "QwlDu77rXwSg"
      },
      "source": [
        "from keras.preprocessing.image import ImageDataGenerator\r\n",
        "datagen_train = ImageDataGenerator(rescale=1. / 255)\r\n",
        "datagen_validate = ImageDataGenerator(rescale=1. / 255)"
      ],
      "execution_count": null,
      "outputs": []
    },
    {
      "cell_type": "code",
      "metadata": {
        "colab": {
          "base_uri": "https://localhost:8080/"
        },
        "id": "AB3udBDyjQBd",
        "outputId": "56762075-9492-46e8-a54e-4545ab579950"
      },
      "source": [
        "train_dir = \"/content/drive/MyDrive/Colab Notebooks/image_classification/seg_train/\"\r\n",
        "validate_dir = \"/content/drive/MyDrive/Colab Notebooks/image_classification/seg_test/\"\r\n",
        "\r\n",
        "train_it = datagen_train.flow_from_directory(train_dir, target_size=(150,150),class_mode=\"categorical\", batch_size=64,shuffle=True,)\r\n",
        "validate_it = datagen_validate.flow_from_directory(validate_dir, target_size=(150,150),class_mode=\"categorical\", batch_size=64,shuffle=True,)\r\n",
        "\r\n",
        "\r\n",
        "H = vgg16.fit(train_it,batch_size=64,epochs=50,validation_data=validate_it)\r\n"
      ],
      "execution_count": null,
      "outputs": [
        {
          "output_type": "stream",
          "text": [
            "Found 14034 images belonging to 6 classes.\n",
            "Found 3000 images belonging to 6 classes.\n",
            "Epoch 1/50\n",
            "220/220 [==============================] - 101s 443ms/step - loss: 0.2906 - accuracy: 0.8975 - val_loss: 0.3430 - val_accuracy: 0.8770\n",
            "Epoch 2/50\n",
            "220/220 [==============================] - 96s 434ms/step - loss: 0.2593 - accuracy: 0.9075 - val_loss: 0.3830 - val_accuracy: 0.8723\n",
            "Epoch 3/50\n",
            "220/220 [==============================] - 95s 433ms/step - loss: 0.2400 - accuracy: 0.9146 - val_loss: 0.3493 - val_accuracy: 0.8753\n",
            "Epoch 4/50\n",
            "220/220 [==============================] - 95s 433ms/step - loss: 0.2057 - accuracy: 0.9273 - val_loss: 0.3448 - val_accuracy: 0.8780\n",
            "Epoch 5/50\n",
            "220/220 [==============================] - 96s 435ms/step - loss: 0.1988 - accuracy: 0.9323 - val_loss: 0.3336 - val_accuracy: 0.8873\n",
            "Epoch 6/50\n",
            "220/220 [==============================] - 95s 433ms/step - loss: 0.1649 - accuracy: 0.9410 - val_loss: 0.3601 - val_accuracy: 0.8787\n",
            "Epoch 7/50\n",
            "220/220 [==============================] - 95s 433ms/step - loss: 0.1575 - accuracy: 0.9443 - val_loss: 0.3876 - val_accuracy: 0.8713\n",
            "Epoch 8/50\n",
            "220/220 [==============================] - 95s 432ms/step - loss: 0.1630 - accuracy: 0.9427 - val_loss: 0.4170 - val_accuracy: 0.8753\n",
            "Epoch 9/50\n",
            "220/220 [==============================] - 95s 432ms/step - loss: 0.1398 - accuracy: 0.9466 - val_loss: 0.3925 - val_accuracy: 0.8830\n",
            "Epoch 10/50\n",
            "220/220 [==============================] - 95s 432ms/step - loss: 0.1178 - accuracy: 0.9598 - val_loss: 0.4088 - val_accuracy: 0.8767\n",
            "Epoch 11/50\n",
            "220/220 [==============================] - 95s 432ms/step - loss: 0.0984 - accuracy: 0.9659 - val_loss: 0.4583 - val_accuracy: 0.8707\n",
            "Epoch 12/50\n",
            "220/220 [==============================] - 95s 432ms/step - loss: 0.0973 - accuracy: 0.9668 - val_loss: 0.4243 - val_accuracy: 0.8793\n",
            "Epoch 13/50\n",
            "220/220 [==============================] - 95s 432ms/step - loss: 0.0981 - accuracy: 0.9677 - val_loss: 0.4991 - val_accuracy: 0.8570\n",
            "Epoch 14/50\n",
            "220/220 [==============================] - 95s 431ms/step - loss: 0.0962 - accuracy: 0.9694 - val_loss: 0.5251 - val_accuracy: 0.8653\n",
            "Epoch 15/50\n",
            "220/220 [==============================] - 95s 432ms/step - loss: 0.0952 - accuracy: 0.9673 - val_loss: 0.4591 - val_accuracy: 0.8810\n",
            "Epoch 16/50\n",
            "220/220 [==============================] - 95s 433ms/step - loss: 0.0553 - accuracy: 0.9811 - val_loss: 0.4367 - val_accuracy: 0.8790\n",
            "Epoch 17/50\n",
            "220/220 [==============================] - 95s 431ms/step - loss: 0.0871 - accuracy: 0.9716 - val_loss: 0.5794 - val_accuracy: 0.8713\n",
            "Epoch 18/50\n",
            "220/220 [==============================] - 95s 431ms/step - loss: 0.0854 - accuracy: 0.9696 - val_loss: 0.5298 - val_accuracy: 0.8673\n",
            "Epoch 19/50\n",
            "220/220 [==============================] - 95s 432ms/step - loss: 0.0542 - accuracy: 0.9815 - val_loss: 0.5155 - val_accuracy: 0.8817\n",
            "Epoch 20/50\n",
            "220/220 [==============================] - 95s 431ms/step - loss: 0.0358 - accuracy: 0.9878 - val_loss: 0.5298 - val_accuracy: 0.8727\n",
            "Epoch 21/50\n",
            "220/220 [==============================] - 95s 431ms/step - loss: 0.0432 - accuracy: 0.9842 - val_loss: 0.6109 - val_accuracy: 0.8780\n",
            "Epoch 22/50\n",
            "220/220 [==============================] - 95s 432ms/step - loss: 0.0627 - accuracy: 0.9790 - val_loss: 0.5511 - val_accuracy: 0.8717\n",
            "Epoch 23/50\n",
            "220/220 [==============================] - 95s 431ms/step - loss: 0.0349 - accuracy: 0.9859 - val_loss: 0.6296 - val_accuracy: 0.8563\n",
            "Epoch 24/50\n",
            "220/220 [==============================] - 95s 431ms/step - loss: 0.0457 - accuracy: 0.9855 - val_loss: 0.5370 - val_accuracy: 0.8810\n",
            "Epoch 25/50\n",
            "220/220 [==============================] - 95s 431ms/step - loss: 0.0339 - accuracy: 0.9887 - val_loss: 0.6255 - val_accuracy: 0.8670\n",
            "Epoch 26/50\n",
            "220/220 [==============================] - 95s 431ms/step - loss: 0.0418 - accuracy: 0.9849 - val_loss: 0.5383 - val_accuracy: 0.8687\n",
            "Epoch 27/50\n",
            "220/220 [==============================] - 95s 432ms/step - loss: 0.0296 - accuracy: 0.9901 - val_loss: 0.6050 - val_accuracy: 0.8833\n",
            "Epoch 28/50\n",
            "220/220 [==============================] - 95s 431ms/step - loss: 0.0268 - accuracy: 0.9914 - val_loss: 0.5687 - val_accuracy: 0.8800\n",
            "Epoch 29/50\n",
            "220/220 [==============================] - 95s 431ms/step - loss: 0.0461 - accuracy: 0.9857 - val_loss: 0.6274 - val_accuracy: 0.8857\n",
            "Epoch 30/50\n",
            "220/220 [==============================] - 95s 431ms/step - loss: 0.0136 - accuracy: 0.9958 - val_loss: 0.6875 - val_accuracy: 0.8917\n",
            "Epoch 31/50\n",
            "220/220 [==============================] - 95s 432ms/step - loss: 0.0169 - accuracy: 0.9941 - val_loss: 0.6451 - val_accuracy: 0.8600\n",
            "Epoch 32/50\n",
            "220/220 [==============================] - 95s 431ms/step - loss: 0.0624 - accuracy: 0.9777 - val_loss: 0.6539 - val_accuracy: 0.8637\n",
            "Epoch 33/50\n",
            "220/220 [==============================] - 95s 431ms/step - loss: 0.0248 - accuracy: 0.9912 - val_loss: 0.8123 - val_accuracy: 0.8667\n",
            "Epoch 34/50\n",
            "220/220 [==============================] - 95s 431ms/step - loss: 0.0264 - accuracy: 0.9907 - val_loss: 0.6349 - val_accuracy: 0.8787\n",
            "Epoch 35/50\n",
            "220/220 [==============================] - 95s 431ms/step - loss: 0.0195 - accuracy: 0.9943 - val_loss: 0.7008 - val_accuracy: 0.8713\n",
            "Epoch 36/50\n",
            "220/220 [==============================] - 95s 431ms/step - loss: 0.0167 - accuracy: 0.9949 - val_loss: 0.6490 - val_accuracy: 0.8730\n",
            "Epoch 37/50\n",
            "220/220 [==============================] - 95s 431ms/step - loss: 0.0153 - accuracy: 0.9948 - val_loss: 0.6748 - val_accuracy: 0.8690\n",
            "Epoch 38/50\n",
            "220/220 [==============================] - 95s 432ms/step - loss: 0.0119 - accuracy: 0.9961 - val_loss: 0.7183 - val_accuracy: 0.8743\n",
            "Epoch 39/50\n",
            "220/220 [==============================] - 95s 432ms/step - loss: 0.0273 - accuracy: 0.9895 - val_loss: 0.7049 - val_accuracy: 0.8817\n",
            "Epoch 40/50\n",
            "220/220 [==============================] - 95s 431ms/step - loss: 0.0080 - accuracy: 0.9974 - val_loss: 0.7158 - val_accuracy: 0.8750\n",
            "Epoch 41/50\n",
            "220/220 [==============================] - 95s 433ms/step - loss: 0.0148 - accuracy: 0.9950 - val_loss: 0.7072 - val_accuracy: 0.8827\n",
            "Epoch 42/50\n",
            "220/220 [==============================] - 95s 431ms/step - loss: 0.0127 - accuracy: 0.9942 - val_loss: 0.7427 - val_accuracy: 0.8747\n",
            "Epoch 43/50\n",
            "220/220 [==============================] - 95s 431ms/step - loss: 0.0318 - accuracy: 0.9890 - val_loss: 0.6804 - val_accuracy: 0.8830\n",
            "Epoch 44/50\n",
            "220/220 [==============================] - 95s 430ms/step - loss: 0.0129 - accuracy: 0.9956 - val_loss: 0.7420 - val_accuracy: 0.8747\n",
            "Epoch 45/50\n",
            "220/220 [==============================] - 95s 431ms/step - loss: 0.0185 - accuracy: 0.9936 - val_loss: 0.6628 - val_accuracy: 0.8820\n",
            "Epoch 46/50\n",
            "220/220 [==============================] - 95s 430ms/step - loss: 0.0126 - accuracy: 0.9961 - val_loss: 0.7037 - val_accuracy: 0.8867\n",
            "Epoch 47/50\n",
            "220/220 [==============================] - 95s 431ms/step - loss: 0.0090 - accuracy: 0.9971 - val_loss: 0.7870 - val_accuracy: 0.8623\n",
            "Epoch 48/50\n",
            "220/220 [==============================] - 95s 431ms/step - loss: 0.0293 - accuracy: 0.9904 - val_loss: 0.6893 - val_accuracy: 0.8817\n",
            "Epoch 49/50\n",
            "220/220 [==============================] - 95s 431ms/step - loss: 0.0245 - accuracy: 0.9920 - val_loss: 0.7340 - val_accuracy: 0.8817\n",
            "Epoch 50/50\n",
            "220/220 [==============================] - 95s 431ms/step - loss: 0.0039 - accuracy: 0.9983 - val_loss: 0.8272 - val_accuracy: 0.8847\n"
          ],
          "name": "stdout"
        }
      ]
    },
    {
      "cell_type": "code",
      "metadata": {
        "id": "SWRQbLsOIHw9"
      },
      "source": [
        "vgg16.save_weights('vgg16_trained_weights_with_transfer_learning_2.h5')"
      ],
      "execution_count": null,
      "outputs": []
    },
    {
      "cell_type": "code",
      "metadata": {
        "colab": {
          "base_uri": "https://localhost:8080/",
          "height": 299
        },
        "id": "knA2nItB_Jr6",
        "outputId": "6b2fbce7-7c62-4335-c3ff-b26d2a9820cb"
      },
      "source": [
        "'''LEARNING CURVE'''\r\n",
        "\r\n",
        "import matplotlib.pyplot as plt\r\n",
        "import numpy as np\r\n",
        "\r\n",
        "N = np.arange(0, 50)\r\n",
        "plt.style.use('ggplot')\r\n",
        "plt.figure()\r\n",
        "plt.plot(N, H.history['loss'], label='training_loss')\r\n",
        "plt.plot(N, H.history['val_loss'], label='validation_loss')\r\n",
        "plt.plot(N, H.history['accuracy'], label='training_accuracy')\r\n",
        "plt.plot(N, H.history['val_accuracy'], label='validation_accuracy')\r\n",
        "plt.title('Training/Validation loss and accuracy')\r\n",
        "plt.xlabel('Epoch #')\r\n",
        "plt.ylabel('Loss/Accuracy')\r\n",
        "plt.legend()\r\n",
        "plt.show()"
      ],
      "execution_count": null,
      "outputs": [
        {
          "output_type": "display_data",
          "data": {
            "image/png": "[encoded data removed]",
            "text/plain": [
              "<Figure size 432x288 with 1 Axes>"
            ]
          },
          "metadata": {
            "tags": []
          }
        }
      ]
    },
    {
      "cell_type": "code",
      "metadata": {
        "id": "e4ZIZCBrP9_7",
        "colab": {
          "base_uri": "https://localhost:8080/"
        },
        "outputId": "a3469355-d82d-4d57-88ca-0a611acc031c"
      },
      "source": [
        "predict_dir = \"/content/drive/MyDrive/Colab Notebooks/image_classification/seg_pred/\"\r\n",
        "\r\n",
        "from keras.preprocessing.image import ImageDataGenerator\r\n",
        "datagen = ImageDataGenerator(rescale=1. / 255)\r\n",
        "predict_it = datagen.flow_from_directory(predict_dir, target_size=(150,150),class_mode=\"categorical\", batch_size=1,shuffle=False,)\r\n",
        "\r\n",
        "score = vgg16.evaluate_generator(predict_it)\r\n",
        "\r\n",
        "filenames = predict_it.filenames\r\n",
        "nb_samples = len(filenames)\r\n",
        "Y_pred = vgg16.predict_generator(predict_it,steps = nb_samples)\r\n",
        "y_pred = np.argmax(Y_pred, axis=1)\r\n",
        "from sklearn.metrics import classification_report, confusion_matrix\r\n",
        "aa=confusion_matrix(predict_it.classes, y_pred)"
      ],
      "execution_count": null,
      "outputs": [
        {
          "output_type": "stream",
          "text": [
            "Found 7301 images belonging to 6 classes.\n"
          ],
          "name": "stdout"
        },
        {
          "output_type": "stream",
          "text": [
            "/usr/local/lib/python3.6/dist-packages/tensorflow/python/keras/engine/training.py:1877: UserWarning: `Model.evaluate_generator` is deprecated and will be removed in a future version. Please use `Model.evaluate`, which supports generators.\n",
            "  warnings.warn('`Model.evaluate_generator` is deprecated and '\n",
            "/usr/local/lib/python3.6/dist-packages/tensorflow/python/keras/engine/training.py:1905: UserWarning: `Model.predict_generator` is deprecated and will be removed in a future version. Please use `Model.predict`, which supports generators.\n",
            "  warnings.warn('`Model.predict_generator` is deprecated and '\n"
          ],
          "name": "stderr"
        }
      ]
    },
    {
      "cell_type": "code",
      "metadata": {
        "colab": {
          "base_uri": "https://localhost:8080/"
        },
        "id": "qIFI0EaLUZ81",
        "outputId": "70e07c6a-e712-4ff2-dd8c-1d50ea9831c6"
      },
      "source": [
        "print('Test Loss = ', score[0])\r\n",
        "print('Test Accuracy = ', score[1])\r\n",
        "print('Confusion Matrix = \\n',aa)"
      ],
      "execution_count": null,
      "outputs": [
        {
          "output_type": "stream",
          "text": [
            "Test Loss =  0.9809449911117554\n",
            "Test Accuracy =  0.8719353675842285\n",
            "Confusion Matrix = \n",
            " [[1060   11    9   13    4   47]\n",
            " [   6 1139    5    8    4    4]\n",
            " [  14    7 1074  154   78    3]\n",
            " [  10    5  126 1060   94    2]\n",
            " [  16    3   39   57 1010    3]\n",
            " [ 151   21   16    5   20 1023]]\n"
          ],
          "name": "stdout"
        }
      ]
    }
  ]
}